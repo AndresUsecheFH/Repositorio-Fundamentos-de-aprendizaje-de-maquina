{
 "cells": [
  {
   "cell_type": "markdown",
   "metadata": {
    "id": "5wwhLujVaCuj"
   },
   "source": [
    "---\n",
    "\n",
    "### Pasos del Taller SVM\n",
    "\n",
    "1. **Cargar y explorar el dataset**\n",
    "2. **Preprocesamiento de datos **\n",
    "3. **Separar datos en train/test**\n",
    "4. **Entrenar SVM:**\n",
    "   - Kernel lineal y no lineal (RBF)\n",
    "   - Estrategia 1 vs 1\n",
    "   - Estrategia 1 vs all\n",
    "   - Hiperparámetros ajustados con GridSearchCV\n",
    "5. **Entrenar otros clasificadores para comparar:**\n",
    "   - RandomForest\n",
    "   - KNN\n",
    "   - Logistic Regression\n",
    "6. **Comparar los resultados**\n",
    "   - Métricas de precisión, recall, f1-score\n",
    "   - Interpretabilidad y facilidad de ajuste\n",
    "7. **Conclusiones sobre desempeño y facilidad de uso**\n"
   ]
  },
  {
   "cell_type": "markdown",
   "metadata": {},
   "source": [
    "### base de datos svm_30k_22_16"
   ]
  },
  {
   "cell_type": "code",
   "execution_count": 2,
   "metadata": {
    "id": "24_eod_aYygB"
   },
   "outputs": [],
   "source": [
    "import pandas as pd\n",
    "import numpy as np\n",
    "from sklearn.model_selection import train_test_split, GridSearchCV\n",
    "from sklearn.svm import SVC\n",
    "from sklearn.preprocessing import StandardScaler\n",
    "from sklearn.metrics import classification_report, accuracy_score\n",
    "from sklearn.multiclass import OneVsRestClassifier, OneVsOneClassifier\n",
    "from sklearn.ensemble import RandomForestClassifier\n",
    "from sklearn.neighbors import KNeighborsClassifier\n",
    "from sklearn.linear_model import LogisticRegression\n"
   ]
  },
  {
   "cell_type": "code",
   "execution_count": 3,
   "metadata": {
    "colab": {
     "base_uri": "https://localhost:8080/"
    },
    "id": "jtahU2uEdCCb",
    "outputId": "5437b413-219e-4ec8-e602-0ba2cd346d41"
   },
   "outputs": [
    {
     "name": "stdout",
     "output_type": "stream",
     "text": [
      "   feature_0  feature_1  feature_2  feature_3  feature_4  feature_5  \\\n",
      "0  59.721593  -8.546082 -37.579689   9.832797  -2.955614  -5.411926   \n",
      "1 -14.122886  -5.746620   0.287884 -28.027219   2.693045  31.368962   \n",
      "2  15.627773   0.554732  -9.047167  33.049798 -12.960678  17.276247   \n",
      "3  36.516697  17.441581   8.760227  24.782512  -5.105414  23.917498   \n",
      "4  16.391862  14.230715 -19.211319   5.442162 -19.561958   1.799838   \n",
      "\n",
      "   feature_6  feature_7  feature_8  feature_9  ...  feature_13  feature_14  \\\n",
      "0 -16.056478   4.164852   0.246286   7.974346  ...   -1.627881   22.217173   \n",
      "1   6.612644 -13.773901  42.100477  -8.424769  ...  -34.373195  -12.734656   \n",
      "2  -6.806244  -5.170336  -7.552115 -17.114208  ...   40.658123   -5.952550   \n",
      "3 -36.651078   2.755014  -6.659416  15.507527  ...   22.801415  -11.418174   \n",
      "4  -7.462112 -10.104525  11.813353  16.377996  ...  -16.528098  -18.939394   \n",
      "\n",
      "   feature_15  feature_16  feature_17  feature_18  feature_19  feature_20  \\\n",
      "0    8.737635  -11.586046   -0.962965   12.894303   20.318797  -27.120757   \n",
      "1   21.447647    5.538679    3.781781   -5.262074   -1.102385  -16.608932   \n",
      "2   21.381324    7.826319  -40.730240   21.444755   -1.078319   -6.115611   \n",
      "3  -30.343768    7.989147  -12.905475  -13.934600   -6.167172    5.189491   \n",
      "4    5.864278   33.127114    8.006791   -3.785069   14.948541  -18.719603   \n",
      "\n",
      "   feature_21  target  \n",
      "0  -12.087036       4  \n",
      "1  -17.191621       6  \n",
      "2  -38.310482       7  \n",
      "3    7.283987       7  \n",
      "4  -10.532857       4  \n",
      "\n",
      "[5 rows x 23 columns]\n",
      "Index(['feature_0', 'feature_1', 'feature_2', 'feature_3', 'feature_4',\n",
      "       'feature_5', 'feature_6', 'feature_7', 'feature_8', 'feature_9',\n",
      "       'feature_10', 'feature_11', 'feature_12', 'feature_13', 'feature_14',\n",
      "       'feature_15', 'feature_16', 'feature_17', 'feature_18', 'feature_19',\n",
      "       'feature_20', 'feature_21', 'target'],\n",
      "      dtype='object')\n"
     ]
    }
   ],
   "source": [
    "# Cargar el dataset\n",
    "df = pd.read_csv('svm_30k_22_16.csv')\n",
    "\n",
    "# Ver primeras filas\n",
    "print(df.head())\n",
    "\n",
    "# Verificar columnas\n",
    "print(df.columns)\n"
   ]
  },
  {
   "cell_type": "code",
   "execution_count": 4,
   "metadata": {
    "id": "2icDbHObdqH3"
   },
   "outputs": [],
   "source": [
    "# Separar características y variable objetivo\n",
    "X = df.drop('target', axis=1)\n",
    "y = df['target']\n",
    "\n",
    "# Escalar las características\n",
    "scaler = StandardScaler()\n",
    "X_scaled = scaler.fit_transform(X)\n",
    "\n",
    "# Separar en conjunto de entrenamiento y prueba\n",
    "X_train, X_test, y_train, y_test = train_test_split(X_scaled, y, test_size=0.3, random_state=42, stratify=y)\n"
   ]
  },
  {
   "cell_type": "code",
   "execution_count": 5,
   "metadata": {
    "id": "1rhHMlapdzns"
   },
   "outputs": [],
   "source": [
    "param_grid = {\n",
    "    'C': [0.1, 1, 10],\n",
    "    'gamma': [1, 0.1, 0.01],\n",
    "    'kernel': ['linear', 'rbf']\n",
    "}\n"
   ]
  },
  {
   "cell_type": "code",
   "execution_count": 6,
   "metadata": {
    "id": "15Q2R-DWd11z"
   },
   "outputs": [],
   "source": [
    "def train_and_evaluate(model, model_name):\n",
    "    model.fit(X_train, y_train)\n",
    "    y_pred = model.predict(X_test)\n",
    "    print(f\"\\nModelo: {model_name}\")\n",
    "    print(\"Accuracy:\", accuracy_score(y_test, y_pred))\n",
    "    print(\"Reporte de clasificación:\\n\", classification_report(y_test, y_pred))\n",
    "    return accuracy_score(y_test, y_pred)\n"
   ]
  },
  {
   "cell_type": "code",
   "execution_count": 7,
   "metadata": {
    "colab": {
     "base_uri": "https://localhost:8080/"
    },
    "id": "r9A7y4GHeAVH",
    "outputId": "3c45c801-0353-4c4c-e371-086ab96e4816"
   },
   "outputs": [
    {
     "name": "stdout",
     "output_type": "stream",
     "text": [
      "\n",
      "Modelo: SVM One-vs-One\n",
      "Accuracy: 0.5996666666666667\n",
      "Reporte de clasificación:\n",
      "               precision    recall  f1-score   support\n",
      "\n",
      "           0       0.59      0.59      0.59      1125\n",
      "           1       0.64      0.66      0.65      1125\n",
      "           2       0.56      0.55      0.55      1125\n",
      "           3       0.64      0.68      0.66      1125\n",
      "           4       0.61      0.59      0.60      1125\n",
      "           5       0.61      0.64      0.62      1125\n",
      "           6       0.61      0.58      0.60      1125\n",
      "           7       0.52      0.49      0.51      1125\n",
      "\n",
      "    accuracy                           0.60      9000\n",
      "   macro avg       0.60      0.60      0.60      9000\n",
      "weighted avg       0.60      0.60      0.60      9000\n",
      "\n"
     ]
    }
   ],
   "source": [
    "svc = SVC()\n",
    "ovo = OneVsOneClassifier(GridSearchCV(svc, param_grid, cv=3, n_jobs=-1))\n",
    "accuracy_ovo = train_and_evaluate(ovo, \"SVM One-vs-One\")\n"
   ]
  },
  {
   "cell_type": "code",
   "execution_count": 8,
   "metadata": {
    "colab": {
     "base_uri": "https://localhost:8080/"
    },
    "id": "r9A7y4GHeAVH",
    "outputId": "3c45c801-0353-4c4c-e371-086ab96e4816"
   },
   "outputs": [
    {
     "name": "stdout",
     "output_type": "stream",
     "text": [
      "\n",
      "Modelo: SVM One-vs-Rest\n",
      "Accuracy: 0.5862222222222222\n",
      "Reporte de clasificación:\n",
      "               precision    recall  f1-score   support\n",
      "\n",
      "           0       0.58      0.58      0.58      1125\n",
      "           1       0.61      0.67      0.64      1125\n",
      "           2       0.55      0.51      0.53      1125\n",
      "           3       0.61      0.68      0.64      1125\n",
      "           4       0.60      0.59      0.59      1125\n",
      "           5       0.58      0.64      0.61      1125\n",
      "           6       0.60      0.58      0.59      1125\n",
      "           7       0.56      0.44      0.49      1125\n",
      "\n",
      "    accuracy                           0.59      9000\n",
      "   macro avg       0.58      0.59      0.58      9000\n",
      "weighted avg       0.58      0.59      0.58      9000\n",
      "\n"
     ]
    }
   ],
   "source": [
    "ovr = OneVsRestClassifier(GridSearchCV(svc, param_grid, cv=3, n_jobs=-1))\n",
    "accuracy_ovr = train_and_evaluate(ovr, \"SVM One-vs-Rest\")\n"
   ]
  },
  {
   "cell_type": "code",
   "execution_count": 9,
   "metadata": {},
   "outputs": [
    {
     "name": "stdout",
     "output_type": "stream",
     "text": [
      "\n",
      "Modelo: K-Nearest Neighbors\n",
      "Accuracy: 0.44455555555555554\n",
      "Reporte de clasificación:\n",
      "               precision    recall  f1-score   support\n",
      "\n",
      "           0       0.36      0.52      0.43      1125\n",
      "           1       0.46      0.56      0.51      1125\n",
      "           2       0.38      0.42      0.40      1125\n",
      "           3       0.52      0.51      0.52      1125\n",
      "           4       0.49      0.44      0.46      1125\n",
      "           5       0.50      0.44      0.47      1125\n",
      "           6       0.49      0.38      0.43      1125\n",
      "           7       0.40      0.29      0.33      1125\n",
      "\n",
      "    accuracy                           0.44      9000\n",
      "   macro avg       0.45      0.44      0.44      9000\n",
      "weighted avg       0.45      0.44      0.44      9000\n",
      "\n"
     ]
    },
    {
     "name": "stderr",
     "output_type": "stream",
     "text": [
      "C:\\Users\\Rog Strix\\anaconda3\\Lib\\site-packages\\joblib\\externals\\loky\\backend\\context.py:136: UserWarning: Could not find the number of physical cores for the following reason:\n",
      "[WinError 2] The system cannot find the file specified\n",
      "Returning the number of logical cores instead. You can silence this warning by setting LOKY_MAX_CPU_COUNT to the number of cores you want to use.\n",
      "  warnings.warn(\n",
      "  File \"C:\\Users\\Rog Strix\\anaconda3\\Lib\\site-packages\\joblib\\externals\\loky\\backend\\context.py\", line 257, in _count_physical_cores\n",
      "    cpu_info = subprocess.run(\n",
      "               ^^^^^^^^^^^^^^^\n",
      "  File \"C:\\Users\\Rog Strix\\anaconda3\\Lib\\subprocess.py\", line 548, in run\n",
      "    with Popen(*popenargs, **kwargs) as process:\n",
      "         ^^^^^^^^^^^^^^^^^^^^^^^^^^^\n",
      "  File \"C:\\Users\\Rog Strix\\anaconda3\\Lib\\subprocess.py\", line 1026, in __init__\n",
      "    self._execute_child(args, executable, preexec_fn, close_fds,\n",
      "  File \"C:\\Users\\Rog Strix\\anaconda3\\Lib\\subprocess.py\", line 1538, in _execute_child\n",
      "    hp, ht, pid, tid = _winapi.CreateProcess(executable, args,\n",
      "                       ^^^^^^^^^^^^^^^^^^^^^^^^^^^^^^^^^^^^^^^\n"
     ]
    }
   ],
   "source": [
    "knn = KNeighborsClassifier()\n",
    "accuracy_knn = train_and_evaluate(knn, \"K-Nearest Neighbors\")\n"
   ]
  },
  {
   "cell_type": "code",
   "execution_count": 10,
   "metadata": {},
   "outputs": [
    {
     "name": "stdout",
     "output_type": "stream",
     "text": [
      "\n",
      "Modelo: Random Forest\n",
      "Accuracy: 0.5487777777777778\n",
      "Reporte de clasificación:\n",
      "               precision    recall  f1-score   support\n",
      "\n",
      "           0       0.54      0.54      0.54      1125\n",
      "           1       0.58      0.60      0.59      1125\n",
      "           2       0.50      0.51      0.50      1125\n",
      "           3       0.59      0.64      0.62      1125\n",
      "           4       0.55      0.54      0.55      1125\n",
      "           5       0.56      0.60      0.58      1125\n",
      "           6       0.57      0.54      0.55      1125\n",
      "           7       0.48      0.41      0.44      1125\n",
      "\n",
      "    accuracy                           0.55      9000\n",
      "   macro avg       0.55      0.55      0.55      9000\n",
      "weighted avg       0.55      0.55      0.55      9000\n",
      "\n"
     ]
    }
   ],
   "source": [
    "rf = RandomForestClassifier(random_state=42)\n",
    "accuracy_rf = train_and_evaluate(rf, \"Random Forest\")\n",
    "\n"
   ]
  },
  {
   "cell_type": "code",
   "execution_count": 20,
   "metadata": {},
   "outputs": [
    {
     "name": "stdout",
     "output_type": "stream",
     "text": [
      "\n",
      "Modelo: Logistic Regression\n",
      "Accuracy: 0.5973333333333334\n",
      "Reporte de clasificación:\n",
      "               precision    recall  f1-score   support\n",
      "\n",
      "           0       0.59      0.59      0.59      1125\n",
      "           1       0.63      0.65      0.64      1125\n",
      "           2       0.55      0.55      0.55      1125\n",
      "           3       0.63      0.68      0.66      1125\n",
      "           4       0.61      0.58      0.60      1125\n",
      "           5       0.60      0.64      0.62      1125\n",
      "           6       0.62      0.59      0.60      1125\n",
      "           7       0.53      0.50      0.51      1125\n",
      "\n",
      "    accuracy                           0.60      9000\n",
      "   macro avg       0.60      0.60      0.60      9000\n",
      "weighted avg       0.60      0.60      0.60      9000\n",
      "\n"
     ]
    }
   ],
   "source": [
    "log_reg = LogisticRegression(max_iter=1000)\n",
    "accuracy_log_reg = train_and_evaluate(log_reg, \"Logistic Regression\")\n"
   ]
  },
  {
   "cell_type": "code",
   "execution_count": 22,
   "metadata": {},
   "outputs": [
    {
     "name": "stdout",
     "output_type": "stream",
     "text": [
      "SVM One-vs-One: 0.5997\n",
      "SVM One-vs-Rest: 0.5862\n",
      "Random Forest: 0.5488\n",
      "K-Nearest Neighbors: 0.4446\n",
      "Logistic Regression: 0.5973\n"
     ]
    }
   ],
   "source": [
    "results = {\n",
    "    'SVM One-vs-One': accuracy_ovo,\n",
    "    'SVM One-vs-Rest': accuracy_ovr,\n",
    "    'Random Forest': accuracy_rf,\n",
    "    'K-Nearest Neighbors': accuracy_knn,\n",
    "    'Logistic Regression': accuracy_log_reg\n",
    "}\n",
    "\n",
    "for model, acc in results.items():\n",
    "    print(f\"{model}: {acc:.4f}\")\n"
   ]
  },
  {
   "cell_type": "code",
   "execution_count": 24,
   "metadata": {},
   "outputs": [
    {
     "data": {
      "image/png": "[encoded data removed]",
      "text/plain": [
       "<Figure size 800x500 with 1 Axes>"
      ]
     },
     "metadata": {},
     "output_type": "display_data"
    }
   ],
   "source": [
    "import matplotlib.pyplot as plt\n",
    "import seaborn as sns\n",
    "\n",
    "plt.figure(figsize=(8, 5))\n",
    "sns.barplot(x=list(results.keys()), y=list(results.values()))\n",
    "plt.title('Comparación de Modelos - Accuracy')\n",
    "plt.ylabel('Accuracy')\n",
    "plt.xticks(rotation=45)\n",
    "plt.ylim(0, 1)\n",
    "plt.grid(True)\n",
    "plt.show()\n"
   ]
  },
  {
   "cell_type": "markdown",
   "metadata": {},
   "source": [
    "---\n",
    "\n",
    "### 📌 Resultados de Accuracy final:\n",
    "\n",
    "| Modelo                | Accuracy |\n",
    "|-----------------------|----------|\n",
    "| SVM One-vs-One        | 0.5997   |\n",
    "| Logistic Regression   | 0.5973   |\n",
    "| SVM One-vs-Rest       | 0.5862   |\n",
    "| Random Forest         | 0.5488   |\n",
    "| K-Nearest Neighbors   | 0.4446   |\n",
    "\n",
    "---\n",
    "\n",
    "###  Conclusión Dataset `svm_30k_22_16.csv`\n",
    "\n",
    "> En este taller se entrenaron varios clasificadores para un problema multiclase , haciendo uso  de Support Vector Machines (SVM) con diferentes configuraciones. El mejor rendimiento se obtuvo con **SVM One-vs-One**, alcanzando una precisión de **59.97%**, ligeramente superior a la **regresión logística** (59.73%).  \n",
    "\n",
    "> La forma **One-vs-One** permitió una mejor separación de clases al entrenar clasificadores binarios para cada par de clases, lo que resultó más efectivo que la estrategia **One-vs-Rest**.  \n",
    "\n",
    "> Aunque **Random Forest** presentó una precisión bastante regular de (54.88%), fue menos competitivo. **K-Nearest Neighbors** tuvo el peor rendimiento (44.46%), puede ser por la alta dimensionalidad del dataset o tambien por la forma de los datos a la hora de hacer el analisis exploratorio.\n",
    "\n",
    "> En cuanto a la **interpretabilidad**, la regresión logística y Random Forest fueron más fáciles de ajustar y comprender, ya que permiten visualizar coeficientes e importancia de variables, respectivamente. SVM, aunque más precisa, requiere más tiempo de ajuste por sus hiperparámetros (C, gamma y kernel) por lo que se demoro mas tiempo en ejecutar.\n",
    "\n",
    "> **SVM con One-vs-One y kernel optimizado vía GridSearchCV** fue el modelo más efectivo en términos de precisión, pero modelos como **Logistic Regression** ofrecen un mejor balance entre rendimiento e interpretabilidad.\n",
    "\n",
    "---\n"
   ]
  },
  {
   "cell_type": "markdown",
   "metadata": {},
   "source": [
    "### base de datos svm_30k_10_18"
   ]
  },
  {
   "cell_type": "code",
   "execution_count": 8,
   "metadata": {
    "scrolled": true
   },
   "outputs": [
    {
     "data": {
      "text/html": [
       "<div>\n",
       "<style scoped>\n",
       "    .dataframe tbody tr th:only-of-type {\n",
       "        vertical-align: middle;\n",
       "    }\n",
       "\n",
       "    .dataframe tbody tr th {\n",
       "        vertical-align: top;\n",
       "    }\n",
       "\n",
       "    .dataframe thead th {\n",
       "        text-align: right;\n",
       "    }\n",
       "</style>\n",
       "<table border=\"1\" class=\"dataframe\">\n",
       "  <thead>\n",
       "    <tr style=\"text-align: right;\">\n",
       "      <th></th>\n",
       "      <th>feature_0</th>\n",
       "      <th>feature_1</th>\n",
       "      <th>feature_2</th>\n",
       "      <th>feature_3</th>\n",
       "      <th>feature_4</th>\n",
       "      <th>feature_5</th>\n",
       "      <th>feature_6</th>\n",
       "      <th>feature_7</th>\n",
       "      <th>feature_8</th>\n",
       "      <th>feature_9</th>\n",
       "      <th>...</th>\n",
       "      <th>feature_31</th>\n",
       "      <th>feature_32</th>\n",
       "      <th>feature_33</th>\n",
       "      <th>feature_34</th>\n",
       "      <th>feature_35</th>\n",
       "      <th>feature_36</th>\n",
       "      <th>feature_37</th>\n",
       "      <th>feature_38</th>\n",
       "      <th>feature_39</th>\n",
       "      <th>target</th>\n",
       "    </tr>\n",
       "  </thead>\n",
       "  <tbody>\n",
       "    <tr>\n",
       "      <th>0</th>\n",
       "      <td>-7.081973</td>\n",
       "      <td>27.469610</td>\n",
       "      <td>8.408588</td>\n",
       "      <td>-3.903137</td>\n",
       "      <td>-16.915459</td>\n",
       "      <td>12.138900</td>\n",
       "      <td>24.182098</td>\n",
       "      <td>32.773110</td>\n",
       "      <td>5.731590</td>\n",
       "      <td>-28.633820</td>\n",
       "      <td>...</td>\n",
       "      <td>-14.281487</td>\n",
       "      <td>-11.146916</td>\n",
       "      <td>26.907373</td>\n",
       "      <td>-5.581156</td>\n",
       "      <td>31.467869</td>\n",
       "      <td>-6.633951</td>\n",
       "      <td>-12.029262</td>\n",
       "      <td>-0.414144</td>\n",
       "      <td>11.055131</td>\n",
       "      <td>1</td>\n",
       "    </tr>\n",
       "    <tr>\n",
       "      <th>1</th>\n",
       "      <td>3.212275</td>\n",
       "      <td>-19.942088</td>\n",
       "      <td>12.437222</td>\n",
       "      <td>3.558125</td>\n",
       "      <td>-1.317987</td>\n",
       "      <td>23.017136</td>\n",
       "      <td>-5.808664</td>\n",
       "      <td>20.167967</td>\n",
       "      <td>-20.547815</td>\n",
       "      <td>-7.154870</td>\n",
       "      <td>...</td>\n",
       "      <td>-4.483092</td>\n",
       "      <td>-10.360177</td>\n",
       "      <td>-7.554518</td>\n",
       "      <td>47.611048</td>\n",
       "      <td>15.509121</td>\n",
       "      <td>-12.165615</td>\n",
       "      <td>5.585796</td>\n",
       "      <td>-16.636277</td>\n",
       "      <td>22.721361</td>\n",
       "      <td>3</td>\n",
       "    </tr>\n",
       "    <tr>\n",
       "      <th>2</th>\n",
       "      <td>24.227238</td>\n",
       "      <td>3.481814</td>\n",
       "      <td>1.688387</td>\n",
       "      <td>-16.679565</td>\n",
       "      <td>-2.270555</td>\n",
       "      <td>-46.818954</td>\n",
       "      <td>-5.857571</td>\n",
       "      <td>-4.764626</td>\n",
       "      <td>39.817464</td>\n",
       "      <td>-4.731248</td>\n",
       "      <td>...</td>\n",
       "      <td>-29.368200</td>\n",
       "      <td>-2.881378</td>\n",
       "      <td>-17.247465</td>\n",
       "      <td>-6.245573</td>\n",
       "      <td>4.437225</td>\n",
       "      <td>31.306585</td>\n",
       "      <td>-25.511642</td>\n",
       "      <td>-11.043622</td>\n",
       "      <td>-7.367751</td>\n",
       "      <td>2</td>\n",
       "    </tr>\n",
       "    <tr>\n",
       "      <th>3</th>\n",
       "      <td>-36.912649</td>\n",
       "      <td>-13.141313</td>\n",
       "      <td>-22.174065</td>\n",
       "      <td>26.661577</td>\n",
       "      <td>-17.855902</td>\n",
       "      <td>-6.034255</td>\n",
       "      <td>-7.603735</td>\n",
       "      <td>-1.595438</td>\n",
       "      <td>4.569959</td>\n",
       "      <td>-34.578242</td>\n",
       "      <td>...</td>\n",
       "      <td>16.903889</td>\n",
       "      <td>18.458153</td>\n",
       "      <td>-10.804608</td>\n",
       "      <td>-14.705578</td>\n",
       "      <td>3.744321</td>\n",
       "      <td>-3.929030</td>\n",
       "      <td>-12.655299</td>\n",
       "      <td>16.619604</td>\n",
       "      <td>7.999459</td>\n",
       "      <td>1</td>\n",
       "    </tr>\n",
       "    <tr>\n",
       "      <th>4</th>\n",
       "      <td>-14.018433</td>\n",
       "      <td>10.039035</td>\n",
       "      <td>-4.995539</td>\n",
       "      <td>-0.948714</td>\n",
       "      <td>6.164530</td>\n",
       "      <td>2.058528</td>\n",
       "      <td>3.523541</td>\n",
       "      <td>35.764779</td>\n",
       "      <td>-19.657000</td>\n",
       "      <td>-47.615775</td>\n",
       "      <td>...</td>\n",
       "      <td>19.165798</td>\n",
       "      <td>-1.508866</td>\n",
       "      <td>-15.821329</td>\n",
       "      <td>-17.402111</td>\n",
       "      <td>6.074115</td>\n",
       "      <td>22.999435</td>\n",
       "      <td>15.098744</td>\n",
       "      <td>8.230881</td>\n",
       "      <td>-10.222919</td>\n",
       "      <td>5</td>\n",
       "    </tr>\n",
       "  </tbody>\n",
       "</table>\n",
       "<p>5 rows × 41 columns</p>\n",
       "</div>"
      ],
      "text/plain": [
       "   feature_0  feature_1  feature_2  feature_3  feature_4  feature_5  \\\n",
       "0  -7.081973  27.469610   8.408588  -3.903137 -16.915459  12.138900   \n",
       "1   3.212275 -19.942088  12.437222   3.558125  -1.317987  23.017136   \n",
       "2  24.227238   3.481814   1.688387 -16.679565  -2.270555 -46.818954   \n",
       "3 -36.912649 -13.141313 -22.174065  26.661577 -17.855902  -6.034255   \n",
       "4 -14.018433  10.039035  -4.995539  -0.948714   6.164530   2.058528   \n",
       "\n",
       "   feature_6  feature_7  feature_8  feature_9  ...  feature_31  feature_32  \\\n",
       "0  24.182098  32.773110   5.731590 -28.633820  ...  -14.281487  -11.146916   \n",
       "1  -5.808664  20.167967 -20.547815  -7.154870  ...   -4.483092  -10.360177   \n",
       "2  -5.857571  -4.764626  39.817464  -4.731248  ...  -29.368200   -2.881378   \n",
       "3  -7.603735  -1.595438   4.569959 -34.578242  ...   16.903889   18.458153   \n",
       "4   3.523541  35.764779 -19.657000 -47.615775  ...   19.165798   -1.508866   \n",
       "\n",
       "   feature_33  feature_34  feature_35  feature_36  feature_37  feature_38  \\\n",
       "0   26.907373   -5.581156   31.467869   -6.633951  -12.029262   -0.414144   \n",
       "1   -7.554518   47.611048   15.509121  -12.165615    5.585796  -16.636277   \n",
       "2  -17.247465   -6.245573    4.437225   31.306585  -25.511642  -11.043622   \n",
       "3  -10.804608  -14.705578    3.744321   -3.929030  -12.655299   16.619604   \n",
       "4  -15.821329  -17.402111    6.074115   22.999435   15.098744    8.230881   \n",
       "\n",
       "   feature_39  target  \n",
       "0   11.055131       1  \n",
       "1   22.721361       3  \n",
       "2   -7.367751       2  \n",
       "3    7.999459       1  \n",
       "4  -10.222919       5  \n",
       "\n",
       "[5 rows x 41 columns]"
      ]
     },
     "execution_count": 8,
     "metadata": {},
     "output_type": "execute_result"
    }
   ],
   "source": [
    "import pandas as pd\n",
    "\n",
    "# Cargar el nuevo archivo\n",
    "df2 = pd.read_csv('svm_30k_10_18.csv')\n",
    "\n",
    "# Mostrar las primeras filas para exploración\n",
    "df2.head()\n"
   ]
  },
  {
   "cell_type": "code",
   "execution_count": 10,
   "metadata": {},
   "outputs": [],
   "source": [
    "from sklearn.model_selection import train_test_split\n",
    "from sklearn.preprocessing import StandardScaler\n",
    "\n",
    "# Separar características y target\n",
    "X2 = df2.drop('target', axis=1)\n",
    "y2 = df2['target']\n",
    "\n",
    "# Escalado\n",
    "scaler2 = StandardScaler()\n",
    "X2_scaled = scaler2.fit_transform(X2)\n",
    "\n",
    "# División en train/test\n",
    "X2_train, X2_test, y2_train, y2_test = train_test_split(\n",
    "    X2_scaled, y2, test_size=0.3, random_state=42, stratify=y2\n",
    ")\n"
   ]
  },
  {
   "cell_type": "code",
   "execution_count": 12,
   "metadata": {},
   "outputs": [],
   "source": [
    "from sklearn.model_selection import GridSearchCV\n",
    "from sklearn.metrics import classification_report, accuracy_score\n",
    "\n",
    "param_grid = {\n",
    "    'C': [0.1, 1, 10],\n",
    "    'gamma': [1, 0.1, 0.01],\n",
    "    'kernel': ['linear', 'rbf']\n",
    "}\n",
    "\n",
    "def train_and_evaluate(model, model_name):\n",
    "    model.fit(X2_train, y2_train)\n",
    "    y2_pred = model.predict(X2_test)\n",
    "    print(f\"\\nModelo: {model_name}\")\n",
    "    print(\"Accuracy:\", accuracy_score(y2_test, y2_pred))\n",
    "    print(\"Reporte de clasificación:\\n\", classification_report(y2_test, y2_pred))\n",
    "    return accuracy_score(y2_test, y2_pred)\n"
   ]
  },
  {
   "cell_type": "code",
   "execution_count": 14,
   "metadata": {},
   "outputs": [
    {
     "name": "stdout",
     "output_type": "stream",
     "text": [
      "\n",
      "Modelo: SVM One-vs-One\n",
      "Accuracy: 0.7147777777777777\n",
      "Reporte de clasificación:\n",
      "               precision    recall  f1-score   support\n",
      "\n",
      "           0       0.64      0.63      0.64      1125\n",
      "           1       0.79      0.79      0.79      1125\n",
      "           2       0.66      0.64      0.65      1125\n",
      "           3       0.74      0.76      0.75      1125\n",
      "           4       0.76      0.76      0.76      1125\n",
      "           5       0.73      0.75      0.74      1125\n",
      "           6       0.70      0.70      0.70      1125\n",
      "           7       0.70      0.68      0.69      1125\n",
      "\n",
      "    accuracy                           0.71      9000\n",
      "   macro avg       0.71      0.71      0.71      9000\n",
      "weighted avg       0.71      0.71      0.71      9000\n",
      "\n",
      "\n",
      "Modelo: SVM One-vs-Rest\n",
      "Accuracy: 0.7115555555555556\n",
      "Reporte de clasificación:\n",
      "               precision    recall  f1-score   support\n",
      "\n",
      "           0       0.64      0.62      0.63      1125\n",
      "           1       0.76      0.80      0.78      1125\n",
      "           2       0.68      0.62      0.65      1125\n",
      "           3       0.74      0.76      0.75      1125\n",
      "           4       0.73      0.77      0.75      1125\n",
      "           5       0.73      0.74      0.74      1125\n",
      "           6       0.70      0.70      0.70      1125\n",
      "           7       0.70      0.67      0.69      1125\n",
      "\n",
      "    accuracy                           0.71      9000\n",
      "   macro avg       0.71      0.71      0.71      9000\n",
      "weighted avg       0.71      0.71      0.71      9000\n",
      "\n"
     ]
    }
   ],
   "source": [
    "from sklearn.svm import SVC\n",
    "from sklearn.multiclass import OneVsOneClassifier, OneVsRestClassifier\n",
    "\n",
    "# SVM One-vs-One\n",
    "svc2 = SVC()\n",
    "ovo2 = OneVsOneClassifier(GridSearchCV(svc2, param_grid, cv=3, n_jobs=-1))\n",
    "accuracy_ovo2 = train_and_evaluate(ovo2, \"SVM One-vs-One\")\n",
    "\n",
    "# SVM One-vs-Rest\n",
    "ovr2 = OneVsRestClassifier(GridSearchCV(svc2, param_grid, cv=3, n_jobs=-1))\n",
    "accuracy_ovr2 = train_and_evaluate(ovr2, \"SVM One-vs-Rest\")\n"
   ]
  },
  {
   "cell_type": "code",
   "execution_count": 16,
   "metadata": {},
   "outputs": [
    {
     "name": "stdout",
     "output_type": "stream",
     "text": [
      "\n",
      "Modelo: K-Nearest Neighbors\n",
      "Accuracy: 0.5341111111111111\n",
      "Reporte de clasificación:\n",
      "               precision    recall  f1-score   support\n",
      "\n",
      "           0       0.39      0.59      0.47      1125\n",
      "           1       0.59      0.65      0.62      1125\n",
      "           2       0.45      0.47      0.46      1125\n",
      "           3       0.62      0.58      0.60      1125\n",
      "           4       0.60      0.57      0.58      1125\n",
      "           5       0.60      0.52      0.56      1125\n",
      "           6       0.56      0.45      0.50      1125\n",
      "           7       0.57      0.45      0.50      1125\n",
      "\n",
      "    accuracy                           0.53      9000\n",
      "   macro avg       0.55      0.53      0.54      9000\n",
      "weighted avg       0.55      0.53      0.54      9000\n",
      "\n"
     ]
    },
    {
     "name": "stderr",
     "output_type": "stream",
     "text": [
      "C:\\Users\\Rog Strix\\anaconda3\\Lib\\site-packages\\joblib\\externals\\loky\\backend\\context.py:136: UserWarning: Could not find the number of physical cores for the following reason:\n",
      "[WinError 2] The system cannot find the file specified\n",
      "Returning the number of logical cores instead. You can silence this warning by setting LOKY_MAX_CPU_COUNT to the number of cores you want to use.\n",
      "  warnings.warn(\n",
      "  File \"C:\\Users\\Rog Strix\\anaconda3\\Lib\\site-packages\\joblib\\externals\\loky\\backend\\context.py\", line 257, in _count_physical_cores\n",
      "    cpu_info = subprocess.run(\n",
      "               ^^^^^^^^^^^^^^^\n",
      "  File \"C:\\Users\\Rog Strix\\anaconda3\\Lib\\subprocess.py\", line 548, in run\n",
      "    with Popen(*popenargs, **kwargs) as process:\n",
      "         ^^^^^^^^^^^^^^^^^^^^^^^^^^^\n",
      "  File \"C:\\Users\\Rog Strix\\anaconda3\\Lib\\subprocess.py\", line 1026, in __init__\n",
      "    self._execute_child(args, executable, preexec_fn, close_fds,\n",
      "  File \"C:\\Users\\Rog Strix\\anaconda3\\Lib\\subprocess.py\", line 1538, in _execute_child\n",
      "    hp, ht, pid, tid = _winapi.CreateProcess(executable, args,\n",
      "                       ^^^^^^^^^^^^^^^^^^^^^^^^^^^^^^^^^^^^^^^\n"
     ]
    }
   ],
   "source": [
    "from sklearn.neighbors import KNeighborsClassifier\n",
    "\n",
    "knn2 = KNeighborsClassifier()\n",
    "accuracy_knn2 = train_and_evaluate(knn2, \"K-Nearest Neighbors\")\n"
   ]
  },
  {
   "cell_type": "code",
   "execution_count": 20,
   "metadata": {},
   "outputs": [
    {
     "name": "stdout",
     "output_type": "stream",
     "text": [
      "\n",
      "Modelo: Random Forest\n",
      "Accuracy: 0.6293333333333333\n",
      "Reporte de clasificación:\n",
      "               precision    recall  f1-score   support\n",
      "\n",
      "           0       0.54      0.56      0.55      1125\n",
      "           1       0.66      0.71      0.68      1125\n",
      "           2       0.54      0.55      0.54      1125\n",
      "           3       0.69      0.69      0.69      1125\n",
      "           4       0.66      0.69      0.67      1125\n",
      "           5       0.67      0.64      0.66      1125\n",
      "           6       0.64      0.59      0.61      1125\n",
      "           7       0.64      0.60      0.62      1125\n",
      "\n",
      "    accuracy                           0.63      9000\n",
      "   macro avg       0.63      0.63      0.63      9000\n",
      "weighted avg       0.63      0.63      0.63      9000\n",
      "\n"
     ]
    }
   ],
   "source": [
    "from sklearn.ensemble import RandomForestClassifier\n",
    "\n",
    "rf2 = RandomForestClassifier(random_state=42)\n",
    "accuracy_rf2 = train_and_evaluate(rf2, \"Random Forest\")\n",
    "\n"
   ]
  },
  {
   "cell_type": "code",
   "execution_count": 22,
   "metadata": {},
   "outputs": [
    {
     "name": "stdout",
     "output_type": "stream",
     "text": [
      "\n",
      "Modelo: Logistic Regression\n",
      "Accuracy: 0.7184444444444444\n",
      "Reporte de clasificación:\n",
      "               precision    recall  f1-score   support\n",
      "\n",
      "           0       0.64      0.64      0.64      1125\n",
      "           1       0.78      0.80      0.79      1125\n",
      "           2       0.67      0.64      0.65      1125\n",
      "           3       0.75      0.77      0.76      1125\n",
      "           4       0.75      0.77      0.76      1125\n",
      "           5       0.74      0.74      0.74      1125\n",
      "           6       0.71      0.71      0.71      1125\n",
      "           7       0.71      0.69      0.70      1125\n",
      "\n",
      "    accuracy                           0.72      9000\n",
      "   macro avg       0.72      0.72      0.72      9000\n",
      "weighted avg       0.72      0.72      0.72      9000\n",
      "\n"
     ]
    }
   ],
   "source": [
    "from sklearn.linear_model import LogisticRegression\n",
    "\n",
    "log_reg2 = LogisticRegression(max_iter=1000)\n",
    "accuracy_log_reg2 = train_and_evaluate(log_reg2, \"Logistic Regression\")\n"
   ]
  },
  {
   "cell_type": "code",
   "execution_count": 24,
   "metadata": {},
   "outputs": [
    {
     "data": {
      "image/png": "[encoded data removed]",
      "text/plain": [
       "<Figure size 800x500 with 1 Axes>"
      ]
     },
     "metadata": {},
     "output_type": "display_data"
    }
   ],
   "source": [
    "import matplotlib.pyplot as plt\n",
    "import seaborn as sns\n",
    "\n",
    "# Resultados exactos\n",
    "results2 = {\n",
    "    'SVM One-vs-One': 0.7148,\n",
    "    'SVM One-vs-Rest': 0.7116,\n",
    "    'Random Forest': 0.6293,\n",
    "    'K-Nearest Neighbors': 0.5341,\n",
    "    'Logistic Regression': 0.7184\n",
    "}\n",
    "\n",
    "# Gráfico\n",
    "plt.figure(figsize=(8, 5))\n",
    "sns.barplot(x=list(results2.keys()), y=list(results2.values()))\n",
    "plt.title('Comparación de Modelos - Dataset svm_30k_10_18.csv')\n",
    "plt.ylabel('Accuracy')\n",
    "plt.xticks(rotation=45)\n",
    "plt.ylim(0, 1)\n",
    "plt.grid(True)\n",
    "plt.show()\n"
   ]
  },
  {
   "cell_type": "markdown",
   "metadata": {},
   "source": [
    "---\n",
    "###  Conclusión – Dataset `svm_30k_10_18.csv`\n",
    "\n",
    "> El modelo con mayor precisión fue **Logistic Regression**, alcanzando un **accuracy del 71.84%**, superando ligeramente al **SVM One-vs-One** (71.48%) y al **SVM One-vs-Rest** (71.16%). pueda que los datos tengan una estructura lo suficientemente lineal como para que modelos como regresión logística funcionen muy bien, sin necesidad de kernels complejos.\n",
    "\n",
    "> **Random Forest** obtuvo una precisión aceptable (62.93%), mientras que **K-Nearest Neighbors** fue el de menor rendimiento (53.41%), posiblemente afectado por la alta dimensionalidad del espacio de características y la sensibilidad del algoritmo a la escala y dispersión de los datos.\n",
    "\n",
    "> En términos de facilidad de ajuste e interpretabilidad, **Logistic Regression** se destacó como el modelo más claro y accesible. En contraste, aunque **SVM** requiere un mayor esfuerzo en la selección de hiperparámetros (`C`, `gamma`, y tipo de `kernel`), sigue siendo una opción potente y robusta.\n",
    "\n",
    "> En resumen, este conjunto de datos mostró ser especialmente favorable para modelos lineales, lo que se reflejó en el excelente desempeño de la regresión logística. SVM se mantuvo competitivo, y KNN volvió a demostrar sus limitaciones en contextos de alta dimensionalidad.\n",
    "\n"
   ]
  }
 ],
 "metadata": {
  "colab": {
   "provenance": []
  },
  "kernelspec": {
   "display_name": "Python [conda env:base] *",
   "language": "python",
   "name": "conda-base-py"
  },
  "language_info": {
   "codemirror_mode": {
    "name": "ipython",
    "version": 3
   },
   "file_extension": ".py",
   "mimetype": "text/x-python",
   "name": "python",
   "nbconvert_exporter": "python",
   "pygments_lexer": "ipython3",
   "version": "3.12.7"
  }
 },
 "nbformat": 4,
 "nbformat_minor": 4
}
