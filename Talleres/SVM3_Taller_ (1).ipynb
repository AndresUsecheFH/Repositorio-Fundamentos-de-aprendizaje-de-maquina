{
 "cells": [
  {
   "cell_type": "code",
   "execution_count": 1,
   "metadata": {},
   "outputs": [
    {
     "name": "stdout",
     "output_type": "stream",
     "text": [
      "C:\\Users\\usech\\anaconda3\\envs\\TRABAJOSU\\python.exe\n",
      "C:\\Users\\usech\\anaconda3\\python.exe\n"
     ]
    }
   ],
   "source": [
    "!where python\n",
    "\n"
   ]
  },
  {
   "cell_type": "code",
   "execution_count": 1,
   "metadata": {
    "id": "gHezaM9dBU_M"
   },
   "outputs": [],
   "source": [
    "\n",
    "import pandas as pd\n",
    "from sklearn.svm import SVC\n",
    "from sklearn.multiclass import OneVsRestClassifier, OneVsOneClassifier\n",
    "from sklearn.preprocessing import StandardScaler\n",
    "from sklearn.model_selection import train_test_split\n",
    "from sklearn.metrics import classification_report, confusion_matrix\n",
    "from sklearn.model_selection import GridSearchCV\n",
    "from sklearn.metrics import accuracy_score, classification_report"
   ]
  },
  {
   "cell_type": "markdown",
   "metadata": {
    "id": "Zo9NZIt4hmr9"
   },
   "source": [
    "DATASET: svm_300k_3_13.csv"
   ]
  },
  {
   "cell_type": "code",
   "execution_count": 11,
   "metadata": {
    "id": "OJ9gvQQpDBFF"
   },
   "outputs": [],
   "source": [
    "dt13 = pd.read_csv(\"C:\\\\Users\\\\usech\\\\Downloads\\\\svm_300k_3_13.csv\")\n"
   ]
  },
  {
   "cell_type": "code",
   "execution_count": 12,
   "metadata": {
    "colab": {
     "base_uri": "https://localhost:8080/",
     "height": 206
    },
    "id": "RMaaNetPYu0s",
    "outputId": "fe4aeb53-153f-4df2-99a6-58c55762c5bc"
   },
   "outputs": [
    {
     "data": {
      "text/html": [
       "<div>\n",
       "<style scoped>\n",
       "    .dataframe tbody tr th:only-of-type {\n",
       "        vertical-align: middle;\n",
       "    }\n",
       "\n",
       "    .dataframe tbody tr th {\n",
       "        vertical-align: top;\n",
       "    }\n",
       "\n",
       "    .dataframe thead th {\n",
       "        text-align: right;\n",
       "    }\n",
       "</style>\n",
       "<table border=\"1\" class=\"dataframe\">\n",
       "  <thead>\n",
       "    <tr style=\"text-align: right;\">\n",
       "      <th></th>\n",
       "      <th>feature_0</th>\n",
       "      <th>feature_1</th>\n",
       "      <th>feature_2</th>\n",
       "      <th>target</th>\n",
       "    </tr>\n",
       "  </thead>\n",
       "  <tbody>\n",
       "    <tr>\n",
       "      <th>0</th>\n",
       "      <td>0.638212</td>\n",
       "      <td>19.497496</td>\n",
       "      <td>20.964036</td>\n",
       "      <td>2</td>\n",
       "    </tr>\n",
       "    <tr>\n",
       "      <th>1</th>\n",
       "      <td>-4.583374</td>\n",
       "      <td>-10.027067</td>\n",
       "      <td>-35.861857</td>\n",
       "      <td>4</td>\n",
       "    </tr>\n",
       "    <tr>\n",
       "      <th>2</th>\n",
       "      <td>10.978062</td>\n",
       "      <td>19.480408</td>\n",
       "      <td>-6.396739</td>\n",
       "      <td>5</td>\n",
       "    </tr>\n",
       "    <tr>\n",
       "      <th>3</th>\n",
       "      <td>-5.419479</td>\n",
       "      <td>14.517298</td>\n",
       "      <td>13.551027</td>\n",
       "      <td>0</td>\n",
       "    </tr>\n",
       "    <tr>\n",
       "      <th>4</th>\n",
       "      <td>0.437531</td>\n",
       "      <td>-1.075047</td>\n",
       "      <td>17.261007</td>\n",
       "      <td>6</td>\n",
       "    </tr>\n",
       "  </tbody>\n",
       "</table>\n",
       "</div>"
      ],
      "text/plain": [
       "   feature_0  feature_1  feature_2  target\n",
       "0   0.638212  19.497496  20.964036       2\n",
       "1  -4.583374 -10.027067 -35.861857       4\n",
       "2  10.978062  19.480408  -6.396739       5\n",
       "3  -5.419479  14.517298  13.551027       0\n",
       "4   0.437531  -1.075047  17.261007       6"
      ]
     },
     "execution_count": 12,
     "metadata": {},
     "output_type": "execute_result"
    }
   ],
   "source": [
    "dt13.head()"
   ]
  },
  {
   "cell_type": "code",
   "execution_count": 13,
   "metadata": {
    "colab": {
     "base_uri": "https://localhost:8080/",
     "height": 684
    },
    "id": "i_66MsAHY8dS",
    "outputId": "732ab2ee-b6fb-4a9f-b47e-c65aabd9195a"
   },
   "outputs": [
    {
     "name": "stdout",
     "output_type": "stream",
     "text": [
      "<class 'pandas.core.frame.DataFrame'>\n",
      "RangeIndex: 300000 entries, 0 to 299999\n",
      "Data columns (total 4 columns):\n",
      " #   Column     Non-Null Count   Dtype  \n",
      "---  ------     --------------   -----  \n",
      " 0   feature_0  300000 non-null  float64\n",
      " 1   feature_1  300000 non-null  float64\n",
      " 2   feature_2  300000 non-null  float64\n",
      " 3   target     300000 non-null  int64  \n",
      "dtypes: float64(3), int64(1)\n",
      "memory usage: 9.2 MB\n"
     ]
    },
    {
     "data": {
      "text/html": [
       "<div>\n",
       "<style scoped>\n",
       "    .dataframe tbody tr th:only-of-type {\n",
       "        vertical-align: middle;\n",
       "    }\n",
       "\n",
       "    .dataframe tbody tr th {\n",
       "        vertical-align: top;\n",
       "    }\n",
       "\n",
       "    .dataframe thead th {\n",
       "        text-align: right;\n",
       "    }\n",
       "</style>\n",
       "<table border=\"1\" class=\"dataframe\">\n",
       "  <thead>\n",
       "    <tr style=\"text-align: right;\">\n",
       "      <th></th>\n",
       "      <th>feature_0</th>\n",
       "      <th>feature_1</th>\n",
       "      <th>feature_2</th>\n",
       "      <th>target</th>\n",
       "    </tr>\n",
       "  </thead>\n",
       "  <tbody>\n",
       "    <tr>\n",
       "      <th>count</th>\n",
       "      <td>300000.000000</td>\n",
       "      <td>300000.000000</td>\n",
       "      <td>300000.000000</td>\n",
       "      <td>300000.000000</td>\n",
       "    </tr>\n",
       "    <tr>\n",
       "      <th>mean</th>\n",
       "      <td>-1.701744</td>\n",
       "      <td>-2.250949</td>\n",
       "      <td>0.333825</td>\n",
       "      <td>3.500000</td>\n",
       "    </tr>\n",
       "    <tr>\n",
       "      <th>std</th>\n",
       "      <td>14.012792</td>\n",
       "      <td>14.432184</td>\n",
       "      <td>13.992047</td>\n",
       "      <td>2.291292</td>\n",
       "    </tr>\n",
       "    <tr>\n",
       "      <th>min</th>\n",
       "      <td>-66.218845</td>\n",
       "      <td>-68.535886</td>\n",
       "      <td>-61.317514</td>\n",
       "      <td>0.000000</td>\n",
       "    </tr>\n",
       "    <tr>\n",
       "      <th>25%</th>\n",
       "      <td>-11.189971</td>\n",
       "      <td>-12.129994</td>\n",
       "      <td>-9.111242</td>\n",
       "      <td>1.750000</td>\n",
       "    </tr>\n",
       "    <tr>\n",
       "      <th>50%</th>\n",
       "      <td>-1.704282</td>\n",
       "      <td>-2.467849</td>\n",
       "      <td>0.321953</td>\n",
       "      <td>3.500000</td>\n",
       "    </tr>\n",
       "    <tr>\n",
       "      <th>75%</th>\n",
       "      <td>7.752403</td>\n",
       "      <td>7.418683</td>\n",
       "      <td>9.779677</td>\n",
       "      <td>5.250000</td>\n",
       "    </tr>\n",
       "    <tr>\n",
       "      <th>max</th>\n",
       "      <td>61.280661</td>\n",
       "      <td>67.242381</td>\n",
       "      <td>61.474699</td>\n",
       "      <td>7.000000</td>\n",
       "    </tr>\n",
       "  </tbody>\n",
       "</table>\n",
       "</div>"
      ],
      "text/plain": [
       "           feature_0      feature_1      feature_2         target\n",
       "count  300000.000000  300000.000000  300000.000000  300000.000000\n",
       "mean       -1.701744      -2.250949       0.333825       3.500000\n",
       "std        14.012792      14.432184      13.992047       2.291292\n",
       "min       -66.218845     -68.535886     -61.317514       0.000000\n",
       "25%       -11.189971     -12.129994      -9.111242       1.750000\n",
       "50%        -1.704282      -2.467849       0.321953       3.500000\n",
       "75%         7.752403       7.418683       9.779677       5.250000\n",
       "max        61.280661      67.242381      61.474699       7.000000"
      ]
     },
     "metadata": {},
     "output_type": "display_data"
    },
    {
     "data": {
      "text/plain": [
       "feature_0    0\n",
       "feature_1    0\n",
       "feature_2    0\n",
       "target       0\n",
       "dtype: int64"
      ]
     },
     "metadata": {},
     "output_type": "display_data"
    }
   ],
   "source": [
    "dt13.info()\n",
    "\n",
    "display(dt13.describe())\n",
    "\n",
    "display(dt13.isnull().sum())"
   ]
  },
  {
   "cell_type": "code",
   "execution_count": 14,
   "metadata": {
    "colab": {
     "base_uri": "https://localhost:8080/",
     "height": 366
    },
    "id": "-laR-Xg2bNDO",
    "outputId": "9c14b5d9-a308-4e09-df59-a17fad474dea"
   },
   "outputs": [
    {
     "data": {
      "text/plain": [
       "target\n",
       "2    37500\n",
       "4    37500\n",
       "5    37500\n",
       "0    37500\n",
       "6    37500\n",
       "7    37500\n",
       "1    37500\n",
       "3    37500\n",
       "Name: count, dtype: int64"
      ]
     },
     "execution_count": 14,
     "metadata": {},
     "output_type": "execute_result"
    }
   ],
   "source": [
    "dt13['target'].value_counts()"
   ]
  },
  {
   "cell_type": "markdown",
   "metadata": {
    "id": "Zo9NZIt4hmr9"
   },
   "source": [
    "Fue necesario hacer una muestra del dataset.  El dataset original tiene 300 mil registros, por lo que a la hora de entrenar y evaluar el modelo duro cargando mas de una hora, por lo que tuvimos que detenerlo, probamos evaluandar cada parametro con diferentes valores y aun asi el tiempo computacional era mayor de una hora. Por lo tanto el ultimo intento fue hacer una muestra del dataset el cual resulto ser la solución al problema. El tamaño de la muestra contiene el 10% de los registros del dataset original y aun asi tomo mucho tiempo. (Se usaron todos los nucleos del procesador disponibles)."
   ]
  },
  {
   "cell_type": "code",
   "execution_count": 16,
   "metadata": {},
   "outputs": [],
   "source": [
    "dt13_muestra = dt13.sample(n=30000, random_state=42)\n"
   ]
  },
  {
   "cell_type": "code",
   "execution_count": 17,
   "metadata": {
    "id": "sB_VATVEgeXT"
   },
   "outputs": [],
   "source": [
    "\n",
    "# Separas features y target\n",
    "X = dt13_muestra[['feature_0', 'feature_1', 'feature_2']]\n",
    "y = dt13_muestra['target']\n",
    "\n",
    "# Divides datos\n",
    "X_train, X_test, y_train, y_test = train_test_split(X, y, test_size=0.2, random_state=42)\n",
    "\n",
    "# Escalas solo las características\n",
    "scaler = StandardScaler()\n",
    "X_train_scaled = scaler.fit_transform(X_train)\n",
    "X_test_scaled = scaler.transform(X_test)"
   ]
  },
  {
   "cell_type": "code",
   "execution_count": 18,
   "metadata": {},
   "outputs": [],
   "source": [
    "\n",
    "\n",
    "# 1. Definir la grilla de parámetros\n",
    "param_grid = {\n",
    "    'C': [0.1, 1],\n",
    "    'gamma': [0.1, 0.01],\n",
    "    'kernel': ['linear', 'rbf']\n",
    "}\n",
    "\n",
    "# 2. Función de entrenamiento y evaluación\n",
    "def train_and_evaluate(model, model_name):\n",
    "    model.fit(X_train_scaled, y_train)\n",
    "    y_pred = model.predict(X_test_scaled)\n",
    "    print(f\"\\n Modelo: {model_name}\")\n",
    "    print(\" Accuracy:\", accuracy_score(y_test, y_pred))\n",
    "    print(\" Reporte de clasificación:\\n\", classification_report(y_test, y_pred))\n",
    "    return accuracy_score(y_test, y_pred)\n",
    "\n",
    "\n",
    "\n"
   ]
  },
  {
   "cell_type": "markdown",
   "metadata": {
    "id": "Zo9NZIt4hmr9"
   },
   "source": [
    "ENTRENAMIENTO 0NE VS ONE "
   ]
  },
  {
   "cell_type": "code",
   "execution_count": 19,
   "metadata": {},
   "outputs": [
    {
     "name": "stdout",
     "output_type": "stream",
     "text": [
      "\n",
      " Modelo: SVM One-vs-One\n",
      " Accuracy: 0.2848333333333333\n",
      " Reporte de clasificación:\n",
      "               precision    recall  f1-score   support\n",
      "\n",
      "           0       0.29      0.37      0.32       736\n",
      "           1       0.26      0.25      0.25       767\n",
      "           2       0.28      0.39      0.32       731\n",
      "           3       0.35      0.49      0.41       734\n",
      "           4       0.31      0.39      0.35       756\n",
      "           5       0.23      0.16      0.19       787\n",
      "           6       0.17      0.05      0.07       717\n",
      "           7       0.25      0.19      0.22       772\n",
      "\n",
      "    accuracy                           0.28      6000\n",
      "   macro avg       0.27      0.29      0.27      6000\n",
      "weighted avg       0.27      0.28      0.27      6000\n",
      "\n"
     ]
    }
   ],
   "source": [
    "\n",
    "svc = SVC()\n",
    "grid_ovo = GridSearchCV(svc, param_grid, cv=3, n_jobs=-1)\n",
    "ovo = OneVsOneClassifier(grid_ovo)\n",
    "accuracy_ovo = train_and_evaluate(ovo, \"SVM One-vs-One\")\n"
   ]
  },
  {
   "cell_type": "code",
   "execution_count": 24,
   "metadata": {},
   "outputs": [
    {
     "name": "stdout",
     "output_type": "stream",
     "text": [
      "Clasificador 1: {'C': 1, 'gamma': 0.1, 'kernel': 'rbf'}\n",
      "Clasificador 2: {'C': 0.1, 'gamma': 0.1, 'kernel': 'linear'}\n",
      "Clasificador 3: {'C': 1, 'gamma': 0.1, 'kernel': 'rbf'}\n",
      "Clasificador 4: {'C': 0.1, 'gamma': 0.01, 'kernel': 'rbf'}\n",
      "Clasificador 5: {'C': 0.1, 'gamma': 0.1, 'kernel': 'rbf'}\n",
      "Clasificador 6: {'C': 1, 'gamma': 0.01, 'kernel': 'rbf'}\n",
      "Clasificador 7: {'C': 0.1, 'gamma': 0.01, 'kernel': 'rbf'}\n",
      "Clasificador 8: {'C': 1, 'gamma': 0.1, 'kernel': 'rbf'}\n",
      "Clasificador 9: {'C': 0.1, 'gamma': 0.01, 'kernel': 'rbf'}\n",
      "Clasificador 10: {'C': 1, 'gamma': 0.1, 'kernel': 'linear'}\n",
      "Clasificador 11: {'C': 0.1, 'gamma': 0.01, 'kernel': 'rbf'}\n",
      "Clasificador 12: {'C': 0.1, 'gamma': 0.01, 'kernel': 'rbf'}\n",
      "Clasificador 13: {'C': 1, 'gamma': 0.1, 'kernel': 'linear'}\n",
      "Clasificador 14: {'C': 0.1, 'gamma': 0.1, 'kernel': 'linear'}\n",
      "Clasificador 15: {'C': 0.1, 'gamma': 0.1, 'kernel': 'rbf'}\n",
      "Clasificador 16: {'C': 0.1, 'gamma': 0.01, 'kernel': 'rbf'}\n",
      "Clasificador 17: {'C': 0.1, 'gamma': 0.01, 'kernel': 'rbf'}\n",
      "Clasificador 18: {'C': 1, 'gamma': 0.1, 'kernel': 'rbf'}\n",
      "Clasificador 19: {'C': 1, 'gamma': 0.1, 'kernel': 'rbf'}\n",
      "Clasificador 20: {'C': 1, 'gamma': 0.1, 'kernel': 'linear'}\n",
      "Clasificador 21: {'C': 0.1, 'gamma': 0.1, 'kernel': 'rbf'}\n",
      "Clasificador 22: {'C': 0.1, 'gamma': 0.01, 'kernel': 'rbf'}\n",
      "Clasificador 23: {'C': 0.1, 'gamma': 0.01, 'kernel': 'rbf'}\n",
      "Clasificador 24: {'C': 0.1, 'gamma': 0.1, 'kernel': 'linear'}\n",
      "Clasificador 25: {'C': 0.1, 'gamma': 0.01, 'kernel': 'rbf'}\n",
      "Clasificador 26: {'C': 0.1, 'gamma': 0.1, 'kernel': 'rbf'}\n",
      "Clasificador 27: {'C': 0.1, 'gamma': 0.1, 'kernel': 'linear'}\n",
      "Clasificador 28: {'C': 1, 'gamma': 0.1, 'kernel': 'rbf'}\n"
     ]
    }
   ],
   "source": [
    "for i, est in enumerate(ovo.estimators_):\n",
    "    print(f\"Clasificador {i+1}: {est.best_params_}\")\n",
    "\n"
   ]
  },
  {
   "cell_type": "code",
   "execution_count": 25,
   "metadata": {},
   "outputs": [
    {
     "name": "stdout",
     "output_type": "stream",
     "text": [
      "Parámetros más comunes entre clasificadores One-vs-One:\n",
      "{'C': 0.1, 'gamma': 0.01, 'kernel': 'rbf'}\n"
     ]
    }
   ],
   "source": [
    "from collections import Counter\n",
    "\n",
    "# Recolecta todos los parámetros\n",
    "all_params = [est.best_params_ for est in ovo.estimators_]\n",
    "\n",
    "# Muestra la combinación más común\n",
    "most_common = Counter(tuple(sorted(p.items())) for p in all_params).most_common(1)\n",
    "print(\"Parámetros más comunes entre clasificadores One-vs-One:\")\n",
    "print(dict(most_common[0][0]))\n"
   ]
  },
  {
   "cell_type": "code",
   "execution_count": 20,
   "metadata": {},
   "outputs": [
    {
     "name": "stdout",
     "output_type": "stream",
     "text": [
      "\n",
      " Modelo: SVM One-vs-Rest\n",
      " Accuracy: 0.16666666666666666\n",
      " Reporte de clasificación:\n",
      "               precision    recall  f1-score   support\n",
      "\n",
      "           0       0.16      0.08      0.11       736\n",
      "           1       0.21      0.13      0.16       767\n",
      "           2       0.12      0.38      0.19       731\n",
      "           3       0.30      0.43      0.35       734\n",
      "           4       0.00      0.00      0.00       756\n",
      "           5       0.11      0.02      0.03       787\n",
      "           6       0.14      0.23      0.17       717\n",
      "           7       0.14      0.09      0.11       772\n",
      "\n",
      "    accuracy                           0.17      6000\n",
      "   macro avg       0.15      0.17      0.14      6000\n",
      "weighted avg       0.15      0.17      0.14      6000\n",
      "\n"
     ]
    },
    {
     "name": "stderr",
     "output_type": "stream",
     "text": [
      "C:\\Users\\usech\\anaconda3\\envs\\TRABAJOSU\\Lib\\site-packages\\sklearn\\metrics\\_classification.py:1565: UndefinedMetricWarning: Precision is ill-defined and being set to 0.0 in labels with no predicted samples. Use `zero_division` parameter to control this behavior.\n",
      "  _warn_prf(average, modifier, f\"{metric.capitalize()} is\", len(result))\n",
      "C:\\Users\\usech\\anaconda3\\envs\\TRABAJOSU\\Lib\\site-packages\\sklearn\\metrics\\_classification.py:1565: UndefinedMetricWarning: Precision is ill-defined and being set to 0.0 in labels with no predicted samples. Use `zero_division` parameter to control this behavior.\n",
      "  _warn_prf(average, modifier, f\"{metric.capitalize()} is\", len(result))\n",
      "C:\\Users\\usech\\anaconda3\\envs\\TRABAJOSU\\Lib\\site-packages\\sklearn\\metrics\\_classification.py:1565: UndefinedMetricWarning: Precision is ill-defined and being set to 0.0 in labels with no predicted samples. Use `zero_division` parameter to control this behavior.\n",
      "  _warn_prf(average, modifier, f\"{metric.capitalize()} is\", len(result))\n"
     ]
    }
   ],
   "source": [
    "\n",
    "grid_ovr = GridSearchCV(svc, param_grid, cv=3, n_jobs=-1)\n",
    "ovr = OneVsRestClassifier(grid_ovr)\n",
    "accuracy_ovr = train_and_evaluate(ovr, \"SVM One-vs-Rest\")"
   ]
  },
  {
   "cell_type": "code",
   "execution_count": 27,
   "metadata": {},
   "outputs": [
    {
     "name": "stdout",
     "output_type": "stream",
     "text": [
      "Mejores parámetros para cada clase (One-vs-Rest):\n",
      "Clase 0: {'C': 0.1, 'gamma': 0.1, 'kernel': 'linear'}\n",
      "Clase 1: {'C': 0.1, 'gamma': 0.1, 'kernel': 'linear'}\n",
      "Clase 2: {'C': 0.1, 'gamma': 0.1, 'kernel': 'linear'}\n",
      "Clase 3: {'C': 1, 'gamma': 0.1, 'kernel': 'rbf'}\n",
      "Clase 4: {'C': 0.1, 'gamma': 0.1, 'kernel': 'linear'}\n",
      "Clase 5: {'C': 0.1, 'gamma': 0.1, 'kernel': 'linear'}\n",
      "Clase 6: {'C': 0.1, 'gamma': 0.1, 'kernel': 'linear'}\n",
      "Clase 7: {'C': 0.1, 'gamma': 0.1, 'kernel': 'linear'}\n"
     ]
    }
   ],
   "source": [
    "print(\"Mejores parámetros para cada clase (One-vs-Rest):\")\n",
    "for i, est in enumerate(ovr.estimators_):\n",
    "    print(f\"Clase {i}: {est.best_params_}\")\n"
   ]
  },
  {
   "cell_type": "code",
   "execution_count": 28,
   "metadata": {},
   "outputs": [
    {
     "name": "stdout",
     "output_type": "stream",
     "text": [
      "Parámetros más comunes entre clasificadores One-vs-One:\n",
      "{'C': 0.1, 'gamma': 0.1, 'kernel': 'linear'}\n"
     ]
    }
   ],
   "source": [
    "\n",
    "\n",
    "# Recolecta todos los parámetros\n",
    "all_params = [est.best_params_ for est in ovr.estimators_]\n",
    "\n",
    "# Muestra la combinación más común\n",
    "most_common = Counter(tuple(sorted(p.items())) for p in all_params).most_common(1)\n",
    "print(\"Parámetros más comunes entre clasificadores One-vs-Rest:\")\n",
    "print(dict(most_common[0][0]))"
   ]
  },
  {
   "cell_type": "markdown",
   "metadata": {
    "id": "Zo9NZIt4hmr9"
   },
   "source": [
    "ENTRENAMIENTO 0NE VS REST "
   ]
  },
  {
   "cell_type": "markdown",
   "metadata": {
    "id": "Zo9NZIt4hmr9"
   },
   "source": [
    "Resultados para el dataset svm_300k_3_13.csv: \n",
    "El modelo SVM con estrategia One-vs-One fue claramente mejor en todas las métricas:\n",
    "-Mayor accuracy.\n",
    "-Mejor balance en precisión y recall entre clases.\n",
    "-Aunque no es un rendimiento espectacular (aún lejos del 100%), es significativamente mejor que el One-vs-Rest en este caso."
   ]
  },
  {
   "cell_type": "code",
   "execution_count": null,
   "metadata": {},
   "outputs": [],
   "source": [
    "#DATASET svm_30k_10_16.csv"
   ]
  },
  {
   "cell_type": "code",
   "execution_count": 2,
   "metadata": {
    "id": "OJ9gvQQpDBFF"
   },
   "outputs": [],
   "source": [
    "dt30 = pd.read_csv(\"C:\\\\Users\\\\usech\\\\Downloads\\\\svm_30k_10_16.csv\")\n"
   ]
  },
  {
   "cell_type": "code",
   "execution_count": 3,
   "metadata": {},
   "outputs": [
    {
     "data": {
      "text/html": [
       "<div>\n",
       "<style scoped>\n",
       "    .dataframe tbody tr th:only-of-type {\n",
       "        vertical-align: middle;\n",
       "    }\n",
       "\n",
       "    .dataframe tbody tr th {\n",
       "        vertical-align: top;\n",
       "    }\n",
       "\n",
       "    .dataframe thead th {\n",
       "        text-align: right;\n",
       "    }\n",
       "</style>\n",
       "<table border=\"1\" class=\"dataframe\">\n",
       "  <thead>\n",
       "    <tr style=\"text-align: right;\">\n",
       "      <th></th>\n",
       "      <th>feature_0</th>\n",
       "      <th>feature_1</th>\n",
       "      <th>feature_2</th>\n",
       "      <th>feature_3</th>\n",
       "      <th>feature_4</th>\n",
       "      <th>feature_5</th>\n",
       "      <th>feature_6</th>\n",
       "      <th>feature_7</th>\n",
       "      <th>feature_8</th>\n",
       "      <th>feature_9</th>\n",
       "      <th>target</th>\n",
       "    </tr>\n",
       "  </thead>\n",
       "  <tbody>\n",
       "    <tr>\n",
       "      <th>0</th>\n",
       "      <td>-51.160673</td>\n",
       "      <td>26.035477</td>\n",
       "      <td>7.561852</td>\n",
       "      <td>-8.092129</td>\n",
       "      <td>-7.717897</td>\n",
       "      <td>1.696000</td>\n",
       "      <td>-12.957637</td>\n",
       "      <td>-1.023136</td>\n",
       "      <td>-0.827129</td>\n",
       "      <td>-51.630709</td>\n",
       "      <td>1</td>\n",
       "    </tr>\n",
       "    <tr>\n",
       "      <th>1</th>\n",
       "      <td>-35.515463</td>\n",
       "      <td>-0.513442</td>\n",
       "      <td>-1.594814</td>\n",
       "      <td>-13.581097</td>\n",
       "      <td>34.308047</td>\n",
       "      <td>0.267119</td>\n",
       "      <td>-18.265009</td>\n",
       "      <td>21.534120</td>\n",
       "      <td>11.129230</td>\n",
       "      <td>14.069917</td>\n",
       "      <td>6</td>\n",
       "    </tr>\n",
       "    <tr>\n",
       "      <th>2</th>\n",
       "      <td>-2.773373</td>\n",
       "      <td>32.023227</td>\n",
       "      <td>-3.844163</td>\n",
       "      <td>-12.878477</td>\n",
       "      <td>-26.217124</td>\n",
       "      <td>11.329399</td>\n",
       "      <td>-12.848427</td>\n",
       "      <td>-18.847647</td>\n",
       "      <td>12.103943</td>\n",
       "      <td>-13.504171</td>\n",
       "      <td>3</td>\n",
       "    </tr>\n",
       "    <tr>\n",
       "      <th>3</th>\n",
       "      <td>-25.633494</td>\n",
       "      <td>25.904482</td>\n",
       "      <td>-32.943225</td>\n",
       "      <td>-24.349416</td>\n",
       "      <td>-33.213071</td>\n",
       "      <td>11.264258</td>\n",
       "      <td>-0.465405</td>\n",
       "      <td>-8.031750</td>\n",
       "      <td>0.179893</td>\n",
       "      <td>0.052532</td>\n",
       "      <td>1</td>\n",
       "    </tr>\n",
       "    <tr>\n",
       "      <th>4</th>\n",
       "      <td>-33.149247</td>\n",
       "      <td>-36.844385</td>\n",
       "      <td>-12.259335</td>\n",
       "      <td>22.637652</td>\n",
       "      <td>-3.986942</td>\n",
       "      <td>-1.657094</td>\n",
       "      <td>7.570057</td>\n",
       "      <td>23.744319</td>\n",
       "      <td>5.052129</td>\n",
       "      <td>18.832912</td>\n",
       "      <td>4</td>\n",
       "    </tr>\n",
       "  </tbody>\n",
       "</table>\n",
       "</div>"
      ],
      "text/plain": [
       "   feature_0  feature_1  feature_2  feature_3  feature_4  feature_5  \\\n",
       "0 -51.160673  26.035477   7.561852  -8.092129  -7.717897   1.696000   \n",
       "1 -35.515463  -0.513442  -1.594814 -13.581097  34.308047   0.267119   \n",
       "2  -2.773373  32.023227  -3.844163 -12.878477 -26.217124  11.329399   \n",
       "3 -25.633494  25.904482 -32.943225 -24.349416 -33.213071  11.264258   \n",
       "4 -33.149247 -36.844385 -12.259335  22.637652  -3.986942  -1.657094   \n",
       "\n",
       "   feature_6  feature_7  feature_8  feature_9  target  \n",
       "0 -12.957637  -1.023136  -0.827129 -51.630709       1  \n",
       "1 -18.265009  21.534120  11.129230  14.069917       6  \n",
       "2 -12.848427 -18.847647  12.103943 -13.504171       3  \n",
       "3  -0.465405  -8.031750   0.179893   0.052532       1  \n",
       "4   7.570057  23.744319   5.052129  18.832912       4  "
      ]
     },
     "execution_count": 3,
     "metadata": {},
     "output_type": "execute_result"
    }
   ],
   "source": [
    "dt30.head()"
   ]
  },
  {
   "cell_type": "code",
   "execution_count": 4,
   "metadata": {},
   "outputs": [
    {
     "name": "stdout",
     "output_type": "stream",
     "text": [
      "<class 'pandas.core.frame.DataFrame'>\n",
      "RangeIndex: 30000 entries, 0 to 29999\n",
      "Data columns (total 11 columns):\n",
      " #   Column     Non-Null Count  Dtype  \n",
      "---  ------     --------------  -----  \n",
      " 0   feature_0  30000 non-null  float64\n",
      " 1   feature_1  30000 non-null  float64\n",
      " 2   feature_2  30000 non-null  float64\n",
      " 3   feature_3  30000 non-null  float64\n",
      " 4   feature_4  30000 non-null  float64\n",
      " 5   feature_5  30000 non-null  float64\n",
      " 6   feature_6  30000 non-null  float64\n",
      " 7   feature_7  30000 non-null  float64\n",
      " 8   feature_8  30000 non-null  float64\n",
      " 9   feature_9  30000 non-null  float64\n",
      " 10  target     30000 non-null  int64  \n",
      "dtypes: float64(10), int64(1)\n",
      "memory usage: 2.5 MB\n"
     ]
    },
    {
     "data": {
      "text/html": [
       "<div>\n",
       "<style scoped>\n",
       "    .dataframe tbody tr th:only-of-type {\n",
       "        vertical-align: middle;\n",
       "    }\n",
       "\n",
       "    .dataframe tbody tr th {\n",
       "        vertical-align: top;\n",
       "    }\n",
       "\n",
       "    .dataframe thead th {\n",
       "        text-align: right;\n",
       "    }\n",
       "</style>\n",
       "<table border=\"1\" class=\"dataframe\">\n",
       "  <thead>\n",
       "    <tr style=\"text-align: right;\">\n",
       "      <th></th>\n",
       "      <th>feature_0</th>\n",
       "      <th>feature_1</th>\n",
       "      <th>feature_2</th>\n",
       "      <th>feature_3</th>\n",
       "      <th>feature_4</th>\n",
       "      <th>feature_5</th>\n",
       "      <th>feature_6</th>\n",
       "      <th>feature_7</th>\n",
       "      <th>feature_8</th>\n",
       "      <th>feature_9</th>\n",
       "      <th>target</th>\n",
       "    </tr>\n",
       "  </thead>\n",
       "  <tbody>\n",
       "    <tr>\n",
       "      <th>count</th>\n",
       "      <td>30000.000000</td>\n",
       "      <td>30000.000000</td>\n",
       "      <td>30000.000000</td>\n",
       "      <td>30000.000000</td>\n",
       "      <td>30000.000000</td>\n",
       "      <td>30000.000000</td>\n",
       "      <td>30000.000000</td>\n",
       "      <td>30000.000000</td>\n",
       "      <td>30000.000000</td>\n",
       "      <td>30000.000000</td>\n",
       "      <td>30000.000000</td>\n",
       "    </tr>\n",
       "    <tr>\n",
       "      <th>mean</th>\n",
       "      <td>-0.381219</td>\n",
       "      <td>-0.075634</td>\n",
       "      <td>-0.656105</td>\n",
       "      <td>2.901995</td>\n",
       "      <td>-1.044810</td>\n",
       "      <td>1.741902</td>\n",
       "      <td>-4.376453</td>\n",
       "      <td>-1.084179</td>\n",
       "      <td>-1.500626</td>\n",
       "      <td>-2.321567</td>\n",
       "      <td>3.500000</td>\n",
       "    </tr>\n",
       "    <tr>\n",
       "      <th>std</th>\n",
       "      <td>17.015133</td>\n",
       "      <td>17.256537</td>\n",
       "      <td>17.762118</td>\n",
       "      <td>16.960943</td>\n",
       "      <td>16.915369</td>\n",
       "      <td>16.848274</td>\n",
       "      <td>16.559829</td>\n",
       "      <td>17.073690</td>\n",
       "      <td>16.668229</td>\n",
       "      <td>16.994324</td>\n",
       "      <td>2.291326</td>\n",
       "    </tr>\n",
       "    <tr>\n",
       "      <th>min</th>\n",
       "      <td>-66.455872</td>\n",
       "      <td>-67.052971</td>\n",
       "      <td>-70.420806</td>\n",
       "      <td>-69.476492</td>\n",
       "      <td>-69.403635</td>\n",
       "      <td>-69.768254</td>\n",
       "      <td>-70.540333</td>\n",
       "      <td>-67.392770</td>\n",
       "      <td>-78.976411</td>\n",
       "      <td>-61.717813</td>\n",
       "      <td>0.000000</td>\n",
       "    </tr>\n",
       "    <tr>\n",
       "      <th>25%</th>\n",
       "      <td>-11.874222</td>\n",
       "      <td>-11.910839</td>\n",
       "      <td>-12.652520</td>\n",
       "      <td>-8.678437</td>\n",
       "      <td>-12.511855</td>\n",
       "      <td>-9.512350</td>\n",
       "      <td>-15.541589</td>\n",
       "      <td>-12.661651</td>\n",
       "      <td>-12.799525</td>\n",
       "      <td>-13.860247</td>\n",
       "      <td>1.750000</td>\n",
       "    </tr>\n",
       "    <tr>\n",
       "      <th>50%</th>\n",
       "      <td>-0.371719</td>\n",
       "      <td>-0.194001</td>\n",
       "      <td>-0.643129</td>\n",
       "      <td>3.002527</td>\n",
       "      <td>-1.217165</td>\n",
       "      <td>1.903634</td>\n",
       "      <td>-4.500999</td>\n",
       "      <td>-1.118787</td>\n",
       "      <td>-1.372115</td>\n",
       "      <td>-2.385987</td>\n",
       "      <td>3.500000</td>\n",
       "    </tr>\n",
       "    <tr>\n",
       "      <th>75%</th>\n",
       "      <td>11.156697</td>\n",
       "      <td>11.671624</td>\n",
       "      <td>11.376898</td>\n",
       "      <td>14.483297</td>\n",
       "      <td>10.473894</td>\n",
       "      <td>13.062201</td>\n",
       "      <td>6.793469</td>\n",
       "      <td>10.351066</td>\n",
       "      <td>9.747080</td>\n",
       "      <td>9.144365</td>\n",
       "      <td>5.250000</td>\n",
       "    </tr>\n",
       "    <tr>\n",
       "      <th>max</th>\n",
       "      <td>67.496365</td>\n",
       "      <td>70.657990</td>\n",
       "      <td>64.285212</td>\n",
       "      <td>81.971546</td>\n",
       "      <td>61.965336</td>\n",
       "      <td>64.811618</td>\n",
       "      <td>61.225890</td>\n",
       "      <td>70.143326</td>\n",
       "      <td>59.667614</td>\n",
       "      <td>77.247600</td>\n",
       "      <td>7.000000</td>\n",
       "    </tr>\n",
       "  </tbody>\n",
       "</table>\n",
       "</div>"
      ],
      "text/plain": [
       "          feature_0     feature_1     feature_2     feature_3     feature_4  \\\n",
       "count  30000.000000  30000.000000  30000.000000  30000.000000  30000.000000   \n",
       "mean      -0.381219     -0.075634     -0.656105      2.901995     -1.044810   \n",
       "std       17.015133     17.256537     17.762118     16.960943     16.915369   \n",
       "min      -66.455872    -67.052971    -70.420806    -69.476492    -69.403635   \n",
       "25%      -11.874222    -11.910839    -12.652520     -8.678437    -12.511855   \n",
       "50%       -0.371719     -0.194001     -0.643129      3.002527     -1.217165   \n",
       "75%       11.156697     11.671624     11.376898     14.483297     10.473894   \n",
       "max       67.496365     70.657990     64.285212     81.971546     61.965336   \n",
       "\n",
       "          feature_5     feature_6     feature_7     feature_8     feature_9  \\\n",
       "count  30000.000000  30000.000000  30000.000000  30000.000000  30000.000000   \n",
       "mean       1.741902     -4.376453     -1.084179     -1.500626     -2.321567   \n",
       "std       16.848274     16.559829     17.073690     16.668229     16.994324   \n",
       "min      -69.768254    -70.540333    -67.392770    -78.976411    -61.717813   \n",
       "25%       -9.512350    -15.541589    -12.661651    -12.799525    -13.860247   \n",
       "50%        1.903634     -4.500999     -1.118787     -1.372115     -2.385987   \n",
       "75%       13.062201      6.793469     10.351066      9.747080      9.144365   \n",
       "max       64.811618     61.225890     70.143326     59.667614     77.247600   \n",
       "\n",
       "             target  \n",
       "count  30000.000000  \n",
       "mean       3.500000  \n",
       "std        2.291326  \n",
       "min        0.000000  \n",
       "25%        1.750000  \n",
       "50%        3.500000  \n",
       "75%        5.250000  \n",
       "max        7.000000  "
      ]
     },
     "metadata": {},
     "output_type": "display_data"
    },
    {
     "data": {
      "text/plain": [
       "feature_0    0\n",
       "feature_1    0\n",
       "feature_2    0\n",
       "feature_3    0\n",
       "feature_4    0\n",
       "feature_5    0\n",
       "feature_6    0\n",
       "feature_7    0\n",
       "feature_8    0\n",
       "feature_9    0\n",
       "target       0\n",
       "dtype: int64"
      ]
     },
     "metadata": {},
     "output_type": "display_data"
    }
   ],
   "source": [
    "dt30.info()\n",
    "display(dt30.describe())\n",
    "display(dt30.isnull().sum())"
   ]
  },
  {
   "cell_type": "code",
   "execution_count": 5,
   "metadata": {},
   "outputs": [
    {
     "data": {
      "text/plain": [
       "target\n",
       "1    3750\n",
       "6    3750\n",
       "3    3750\n",
       "4    3750\n",
       "2    3750\n",
       "5    3750\n",
       "7    3750\n",
       "0    3750\n",
       "Name: count, dtype: int64"
      ]
     },
     "execution_count": 5,
     "metadata": {},
     "output_type": "execute_result"
    }
   ],
   "source": [
    "dt30['target'].value_counts()"
   ]
  },
  {
   "cell_type": "code",
   "execution_count": 29,
   "metadata": {},
   "outputs": [],
   "source": [
    "\n",
    "# Separas features y target\n",
    "X = dt30.drop('target', axis=1)\n",
    "y = dt30['target']\n",
    "\n",
    "# Divides datos\n",
    "X_train, X_test, y_train, y_test = train_test_split(X, y, test_size=0.2, random_state=42)\n",
    "\n",
    "# Escalas solo las características\n",
    "scaler = StandardScaler()\n",
    "X_train_scaled = scaler.fit_transform(X_train)\n",
    "X_test_scaled = scaler.transform(X_test)"
   ]
  },
  {
   "cell_type": "code",
   "execution_count": 30,
   "metadata": {},
   "outputs": [],
   "source": [
    "\n",
    "# 1. Definir la grilla de parámetros\n",
    "param_grid = {\n",
    "    'C': [0.1, 1],\n",
    "    'gamma': [0.1, 0.01],\n",
    "    'kernel': ['linear', 'rbf']\n",
    "}\n",
    "\n",
    "# 2. Función de entrenamiento y evaluación\n",
    "def train_and_evaluate(model, model_name):\n",
    "    model.fit(X_train_scaled, y_train)\n",
    "    y_pred = model.predict(X_test_scaled)\n",
    "    print(f\"\\n Modelo: {model_name}\")\n",
    "    print(\" Accuracy:\", accuracy_score(y_test, y_pred))\n",
    "    print(\" Reporte de clasificación:\\n\", classification_report(y_test, y_pred))\n",
    "    return accuracy_score(y_test, y_pred)"
   ]
  },
  {
   "cell_type": "markdown",
   "metadata": {
    "id": "Zo9NZIt4hmr9"
   },
   "source": [
    "ENTRENAMIENTO 0NE VS ONE "
   ]
  },
  {
   "cell_type": "code",
   "execution_count": 31,
   "metadata": {},
   "outputs": [
    {
     "name": "stdout",
     "output_type": "stream",
     "text": [
      "\n",
      " Modelo: SVM One-vs-One\n",
      " Accuracy: 0.4206666666666667\n",
      " Reporte de clasificación:\n",
      "               precision    recall  f1-score   support\n",
      "\n",
      "           0       0.44      0.43      0.44       758\n",
      "           1       0.45      0.48      0.46       730\n",
      "           2       0.36      0.32      0.34       767\n",
      "           3       0.37      0.41      0.39       704\n",
      "           4       0.37      0.34      0.35       741\n",
      "           5       0.46      0.52      0.49       749\n",
      "           6       0.45      0.46      0.45       791\n",
      "           7       0.44      0.41      0.42       760\n",
      "\n",
      "    accuracy                           0.42      6000\n",
      "   macro avg       0.42      0.42      0.42      6000\n",
      "weighted avg       0.42      0.42      0.42      6000\n",
      "\n"
     ]
    }
   ],
   "source": [
    "\n",
    "svc = SVC()\n",
    "grid_ovo = GridSearchCV(svc, param_grid, cv=3, n_jobs=-1)\n",
    "ovo = OneVsOneClassifier(grid_ovo)\n",
    "accuracy_ovo = train_and_evaluate(ovo, \"SVM One-vs-One\")"
   ]
  },
  {
   "cell_type": "code",
   "execution_count": 34,
   "metadata": {},
   "outputs": [
    {
     "name": "stdout",
     "output_type": "stream",
     "text": [
      "Mejores parámetros para cada clase (One-vs-Rest):\n",
      "Clase 0: {'C': 0.1, 'gamma': 0.01, 'kernel': 'rbf'}\n",
      "Clase 1: {'C': 0.1, 'gamma': 0.01, 'kernel': 'rbf'}\n",
      "Clase 2: {'C': 0.1, 'gamma': 0.1, 'kernel': 'rbf'}\n",
      "Clase 3: {'C': 0.1, 'gamma': 0.1, 'kernel': 'linear'}\n",
      "Clase 4: {'C': 1, 'gamma': 0.1, 'kernel': 'linear'}\n",
      "Clase 5: {'C': 1, 'gamma': 0.1, 'kernel': 'linear'}\n",
      "Clase 6: {'C': 0.1, 'gamma': 0.01, 'kernel': 'rbf'}\n",
      "Clase 7: {'C': 1, 'gamma': 0.1, 'kernel': 'linear'}\n",
      "Clase 8: {'C': 0.1, 'gamma': 0.1, 'kernel': 'rbf'}\n",
      "Clase 9: {'C': 0.1, 'gamma': 0.01, 'kernel': 'rbf'}\n",
      "Clase 10: {'C': 0.1, 'gamma': 0.1, 'kernel': 'rbf'}\n",
      "Clase 11: {'C': 0.1, 'gamma': 0.01, 'kernel': 'rbf'}\n",
      "Clase 12: {'C': 1, 'gamma': 0.01, 'kernel': 'rbf'}\n",
      "Clase 13: {'C': 1, 'gamma': 0.1, 'kernel': 'linear'}\n",
      "Clase 14: {'C': 0.1, 'gamma': 0.01, 'kernel': 'rbf'}\n",
      "Clase 15: {'C': 0.1, 'gamma': 0.1, 'kernel': 'rbf'}\n",
      "Clase 16: {'C': 0.1, 'gamma': 0.01, 'kernel': 'rbf'}\n",
      "Clase 17: {'C': 1, 'gamma': 0.01, 'kernel': 'rbf'}\n",
      "Clase 18: {'C': 1, 'gamma': 0.1, 'kernel': 'rbf'}\n",
      "Clase 19: {'C': 0.1, 'gamma': 0.1, 'kernel': 'rbf'}\n",
      "Clase 20: {'C': 1, 'gamma': 0.1, 'kernel': 'linear'}\n",
      "Clase 21: {'C': 0.1, 'gamma': 0.01, 'kernel': 'rbf'}\n",
      "Clase 22: {'C': 1, 'gamma': 0.1, 'kernel': 'linear'}\n",
      "Clase 23: {'C': 0.1, 'gamma': 0.1, 'kernel': 'linear'}\n",
      "Clase 24: {'C': 0.1, 'gamma': 0.01, 'kernel': 'rbf'}\n",
      "Clase 25: {'C': 0.1, 'gamma': 0.1, 'kernel': 'rbf'}\n",
      "Clase 26: {'C': 0.1, 'gamma': 0.1, 'kernel': 'linear'}\n",
      "Clase 27: {'C': 0.1, 'gamma': 0.1, 'kernel': 'linear'}\n"
     ]
    }
   ],
   "source": [
    "print(\"Mejores parámetros para cada clase (One-vs-Rest):\")\n",
    "for i, est in enumerate(ovo.estimators_):\n",
    "    print(f\"Clase {i}: {est.best_params_}\")\n"
   ]
  },
  {
   "cell_type": "code",
   "execution_count": 35,
   "metadata": {},
   "outputs": [
    {
     "name": "stdout",
     "output_type": "stream",
     "text": [
      "Parámetros más comunes entre clasificadores One-vs-One:\n",
      "{'C': 0.1, 'gamma': 0.01, 'kernel': 'rbf'}\n"
     ]
    }
   ],
   "source": [
    "# Recolecta todos los parámetros\n",
    "all_params = [est.best_params_ for est in ovo.estimators_]\n",
    "\n",
    "# Muestra la combinación más común\n",
    "most_common = Counter(tuple(sorted(p.items())) for p in all_params).most_common(1)\n",
    "print(\"Parámetros más comunes entre clasificadores One-vs-One:\")\n",
    "print(dict(most_common[0][0]))"
   ]
  },
  {
   "cell_type": "markdown",
   "metadata": {
    "id": "Zo9NZIt4hmr9"
   },
   "source": [
    "ENTRENAMIENTO 0NE VS REST "
   ]
  },
  {
   "cell_type": "code",
   "execution_count": 32,
   "metadata": {},
   "outputs": [
    {
     "name": "stdout",
     "output_type": "stream",
     "text": [
      "\n",
      " Modelo: SVM One-vs-Rest\n",
      " Accuracy: 0.37833333333333335\n",
      " Reporte de clasificación:\n",
      "               precision    recall  f1-score   support\n",
      "\n",
      "           0       0.40      0.39      0.39       758\n",
      "           1       0.40      0.43      0.42       730\n",
      "           2       0.26      0.14      0.18       767\n",
      "           3       0.35      0.39      0.37       704\n",
      "           4       0.33      0.30      0.32       741\n",
      "           5       0.42      0.54      0.47       749\n",
      "           6       0.40      0.44      0.42       791\n",
      "           7       0.38      0.39      0.39       760\n",
      "\n",
      "    accuracy                           0.38      6000\n",
      "   macro avg       0.37      0.38      0.37      6000\n",
      "weighted avg       0.37      0.38      0.37      6000\n",
      "\n"
     ]
    }
   ],
   "source": [
    "\n",
    "grid_ovr = GridSearchCV(svc, param_grid, cv=3, n_jobs=-1)\n",
    "ovr = OneVsRestClassifier(grid_ovr)\n",
    "accuracy_ovr = train_and_evaluate(ovr, \"SVM One-vs-Rest\")"
   ]
  },
  {
   "cell_type": "code",
   "execution_count": 37,
   "metadata": {},
   "outputs": [
    {
     "name": "stdout",
     "output_type": "stream",
     "text": [
      "Mejores parámetros para cada clase (One-vs-Rest):\n",
      "Clase 0: {'C': 1, 'gamma': 0.1, 'kernel': 'rbf'}\n",
      "Clase 1: {'C': 1, 'gamma': 0.1, 'kernel': 'rbf'}\n",
      "Clase 2: {'C': 0.1, 'gamma': 0.1, 'kernel': 'linear'}\n",
      "Clase 3: {'C': 1, 'gamma': 0.1, 'kernel': 'rbf'}\n",
      "Clase 4: {'C': 1, 'gamma': 0.1, 'kernel': 'rbf'}\n",
      "Clase 5: {'C': 1, 'gamma': 0.1, 'kernel': 'rbf'}\n",
      "Clase 6: {'C': 1, 'gamma': 0.1, 'kernel': 'rbf'}\n",
      "Clase 7: {'C': 1, 'gamma': 0.1, 'kernel': 'rbf'}\n"
     ]
    }
   ],
   "source": [
    "print(\"Mejores parámetros para cada clase (One-vs-Rest):\")\n",
    "for i, est in enumerate(ovr.estimators_):\n",
    "    print(f\"Clase {i}: {est.best_params_}\")"
   ]
  },
  {
   "cell_type": "code",
   "execution_count": 38,
   "metadata": {},
   "outputs": [
    {
     "name": "stdout",
     "output_type": "stream",
     "text": [
      "Parámetros más comunes entre clasificadores One-vs-Rest:\n",
      "{'C': 1, 'gamma': 0.1, 'kernel': 'rbf'}\n"
     ]
    }
   ],
   "source": [
    "# Recolecta todos los parámetros\n",
    "all_params = [est.best_params_ for est in ovr.estimators_]\n",
    "\n",
    "# Muestra la combinación más común\n",
    "most_common = Counter(tuple(sorted(p.items())) for p in all_params).most_common(1)\n",
    "print(\"Parámetros más comunes entre clasificadores One-vs-Rest:\")\n",
    "print(dict(most_common[0][0]))"
   ]
  },
  {
   "cell_type": "markdown",
   "metadata": {
    "id": "Zo9NZIt4hmr9"
   },
   "source": [
    "Resultados dataset : El modelo One-vs-One sigue siendo superior en todas las métricas.\n",
    "En particular, mejora el rendimiento en clases como 2 y 4, donde el One-vs-Rest tiene más problemas.\n",
    "La consistencia entre precision, recall y f1-score también es mejor con One-vs-One.\n",
    "\n"
   ]
  },
  {
   "cell_type": "markdown",
   "metadata": {
    "id": "Zo9NZIt4hmr9"
   },
   "source": [
    "Observación general: \n",
    "Si el dataset está balanceado:\n",
    "Ambos métodos (OvO y OvR) tienen la misma oportunidad de aprender bien.\n",
    "La ventaja del One-vs-One no viene del balanceo, sino de que:\n",
    "Cada clasificador maneja solo 2 clases, es decir fronteras más simples.\n",
    "Se evitan los problemas de clases dominantes en un clasificador multiclase. Puede capturar mejor patrones finos entre pares de clases.\n",
    "\n",
    "Si el dataset estuviera desbalanceado:\n",
    "One-vs-Rest sufre más, porque el clasificador para cada clase compite contra todas las demás, las clases mayoritarias tienden a dominar.One-vs-One es más robusto en este caso.\n"
   ]
  }
 ],
 "metadata": {
  "colab": {
   "provenance": []
  },
  "kernelspec": {
   "display_name": "Python 3 (ipykernel)",
   "language": "python",
   "name": "python3"
  },
  "language_info": {
   "codemirror_mode": {
    "name": "ipython",
    "version": 3
   },
   "file_extension": ".py",
   "mimetype": "text/x-python",
   "name": "python",
   "nbconvert_exporter": "python",
   "pygments_lexer": "ipython3",
   "version": "3.12.9"
  }
 },
 "nbformat": 4,
 "nbformat_minor": 4
}
