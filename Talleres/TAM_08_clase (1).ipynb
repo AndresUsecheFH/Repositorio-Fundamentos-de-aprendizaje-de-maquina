{
  "nbformat": 4,
  "nbformat_minor": 0,
  "metadata": {
    "colab": {
      "private_outputs": true,
      "provenance": []
    },
    "kernelspec": {
      "name": "python3",
      "display_name": "Python 3"
    },
    "language_info": {
      "name": "python"
    }
  },
  "cells": [
    {
      "cell_type": "code",
      "execution_count": null,
      "metadata": {
        "id": "sJnCqMQd4ny8"
      },
      "outputs": [],
      "source": [
        "!pip install deap"
      ]
    },
    {
      "cell_type": "code",
      "source": [
        "import matplotlib.pyplot as plt\n",
        "import time\n",
        "import numpy as np\n",
        "from IPython import display\n",
        "import random\n",
        "from deap import base, creator, tools, algorithms"
      ],
      "metadata": {
        "id": "f4r1UMtN5A8p"
      },
      "execution_count": null,
      "outputs": []
    },
    {
      "cell_type": "code",
      "source": [],
      "metadata": {
        "id": "cSuVf05T5RkY"
      },
      "execution_count": null,
      "outputs": []
    },
    {
      "cell_type": "code",
      "source": [
        "def mostrar_laberinto():\n",
        "    ax = plt.gca();\n",
        "    ax.set_xticks(np.arange(0, 10, 1));\n",
        "    ax.set_yticks(np.arange(0, 10, 1));\n",
        "    #ax.set_xticklabels(np.arange(0, 10, 1));\n",
        "    #ax.set_yticklabels(np.arange(0, 10, 1));\n",
        "    ax.imshow(laberinto, cmap='binary')\n",
        "    plt.gca().invert_yaxis()\n",
        "    plt.plot(inicio[0], inicio[1], \"ro\", label=\"Inicio\")\n",
        "    plt.plot(salida[0], salida[1], \"go\", label=\"Salida\")\n",
        "    plt.grid(True, which='both')\n",
        "    plt.legend()\n",
        "    plt.show()\n",
        "\n",
        "\n",
        "def mover(pos, movimiento):\n",
        "    # Realiza el movimiento (x, y)\n",
        "    nueva_pos = (pos[0] + movimiento[0], pos[1] + movimiento[1])\n",
        "\n",
        "    # Verificar si está dentro de los límites y no es una pared\n",
        "    if 0 <= nueva_pos[0] < laberinto.shape[0] and 0 <= nueva_pos[1] < laberinto.shape[1]:\n",
        "        if laberinto[nueva_pos] == 0:  # No es una pared\n",
        "            return nueva_pos\n",
        "    return pos  # Si no es un movimiento válido, quedarse en el mismo lugar\n",
        "\n",
        "# Definir la función de aptitud\n",
        "def evaluar_individuo(individual):\n",
        "    pos = inicio\n",
        "    for movimiento in individual:\n",
        "        pos = mover(pos, MOVIMIENTOS[movimiento])\n",
        "\n",
        "    # Distancia a la salida\n",
        "    dist_salida = np.sqrt((pos[0] - salida[0])**2 + (pos[1] - salida[1])**2)\n",
        "    return dist_salida,  # Cuanto más cerca de 0, mejor\n",
        "\n",
        "def mostrar_ruta_pasos(individuo, s=0.01,laberinto=None, inicio=None, salida=None, grid=False):\n",
        "    generacion = individuo if isinstance(individuo[0], list) else [individuo]\n",
        "\n",
        "    NOMBRE_MOVIMIENTOS = ['arriba', 'abajo', 'izquierda', 'derecha']\n",
        "    #pos = inicio\n",
        "    #camino = [pos]\n",
        "    #nombre_camino = ['nada']\n",
        "    #numero_movimiento = ['-']\n",
        "\n",
        "    # Clear the previous plot\n",
        "    plt.clf()\n",
        "\n",
        "\n",
        "    fig, ax = plt.subplots()\n",
        "    #ax.invert_yaxis()\n",
        "    for ind in generacion:\n",
        "        pos = inicio\n",
        "        camino = [pos]\n",
        "        for i, movimiento in enumerate(ind):\n",
        "            pos = mover(pos, MOVIMIENTOS[movimiento])\n",
        "\n",
        "            camino.append(pos)\n",
        "            #nombre_camino.append(NOMBRE_MOVIMIENTOS[movimiento])\n",
        "            #numero_movimiento.append(movimiento)\n",
        "\n",
        "            # Convert to NumPy array for plotting\n",
        "            camino_np = np.array(camino)\n",
        "\n",
        "\n",
        "            # Plot the path up to the current step\n",
        "            ax.clear()\n",
        "            if grid:\n",
        "              ax.set_xticks(np.arange(0, laberinto.shape[1], 1));\n",
        "              ax.set_yticks(np.arange(0, laberinto.shape[1], 1));\n",
        "              #ax.set_xticklabels(np.arange(0, 10, 1));\n",
        "              #ax.set_yticklabels(np.arange(0, 10, 1));\n",
        "              ax.grid(grid, which='both')\n",
        "            ax.set_ylim(-1, laberinto.shape[1])\n",
        "            ax.set_xlim(-1, laberinto.shape[0])\n",
        "            ax.imshow(laberinto.T, cmap='binary')\n",
        "            ax.plot(camino_np[:, 0], camino_np[:, 1], \"r-\")\n",
        "            ax.plot(-1, -1, \"ro\", label=f\"{i+1}\")\n",
        "            ax.plot(inicio[0], inicio[1], \"bo\", label=\"Inicio\")  # Start point\n",
        "            ax.plot(salida[0], salida[1], \"go\", label=\"Salida\")   # End point\n",
        "            #ax.plot(pos_anterior[0], pos_anterior[1], \"bo\", label=f\"pos-ant {pos_anterior}\", alpha=0.6)   # End point\n",
        "            ax.plot(pos[0], pos[1], \"bx\", label=f\"pos {pos}\")   # End point\n",
        "            plt.xlabel(\"Eje X\")\n",
        "            plt.ylabel(\"Eje Y\")\n",
        "\n",
        "            ax.legend()\n",
        "\n",
        "            # Update the display\n",
        "\n",
        "            display.clear_output(wait=True)\n",
        "            display.display(fig)\n",
        "\n",
        "            time.sleep(s)\n",
        "    plt.close(fig)  # Close the figure to prevent further updates\n",
        "    #plt.show()  # Keep the final plot displayed"
      ],
      "metadata": {
        "id": "K_Upe3OX40hI"
      },
      "execution_count": null,
      "outputs": []
    },
    {
      "cell_type": "code",
      "source": [
        "\n",
        "\n",
        "# Representamos el laberinto como una matriz 10x10\n",
        "laberinto = np.zeros((10, 10))\n",
        "# Poner paredes (1 representa una pared)\n",
        "laberinto[0:9, 5] = 1  # Pared vertical\n",
        "laberinto[5, 1:5] = 1  # Pared horizontal\n",
        "#laberinto = laberinto.T\n",
        "\n",
        "# Definir la posición inicial y final\n",
        "inicio = (0, 0)\n",
        "salida = (9, 9)\n",
        "\n",
        "# Mostrar el laberinto\n",
        "mostrar_laberinto()"
      ],
      "metadata": {
        "id": "yUHFIgHc4rH6"
      },
      "execution_count": null,
      "outputs": []
    },
    {
      "cell_type": "code",
      "source": [
        "# Movimientos posibles\n",
        "#              (arriba, abajo, izquierda, derecha)\n",
        "MOVIMIENTOS = [(0, 1), (0, -1), (-1, 0), (1, 0)]\n",
        "\n",
        "# Crear la estructura del algoritmo genético\n",
        "creator.create(\"FitnessMin\", base.Fitness, weights=(-1.0,))  # Minimizar la distancia\n",
        "creator.create(\"Individual\", list, fitness=creator.FitnessMin)\n",
        "\n",
        "toolbox = base.Toolbox()\n",
        "toolbox.register(\"attr_move\", random.randint, 0, len(MOVIMIENTOS)-1)\n",
        "toolbox.register(\"individual\", tools.initRepeat, creator.Individual, toolbox.attr_move, n=50)  # 50 movimientos\n",
        "toolbox.register(\"population\", tools.initRepeat, list, toolbox.individual)\n",
        "\n",
        "toolbox.register(\"mate\", tools.cxTwoPoint)\n",
        "toolbox.register(\"mutate\", tools.mutShuffleIndexes, indpb=0.1)\n",
        "toolbox.register(\"select\", tools.selTournament, tournsize=3)\n",
        "toolbox.register(\"evaluate\", evaluar_individuo)\n"
      ],
      "metadata": {
        "id": "6pMM-AWi54Wy"
      },
      "execution_count": null,
      "outputs": []
    },
    {
      "cell_type": "code",
      "source": [
        "# Crear la población inicial\n",
        "pop = toolbox.population(n=10)  # 100 individuos\n",
        "\n",
        "# Ejecutar el algoritmo genético\n",
        "resultados, log = algorithms.eaSimple(pop, toolbox, cxpb=0.5, mutpb=0.2, ngen=10, verbose=False)"
      ],
      "metadata": {
        "id": "Gh6u7a-U6R3n"
      },
      "execution_count": null,
      "outputs": []
    },
    {
      "cell_type": "code",
      "source": [
        "mostrar_ruta_pasos(resultados[0], laberinto=laberinto, inicio=inicio, salida=salida, grid=True)"
      ],
      "metadata": {
        "id": "_vkfoCGF5s-z"
      },
      "execution_count": null,
      "outputs": []
    },
    {
      "cell_type": "code",
      "source": [
        "from deap import tools\n",
        "# Variables para el registro de la evolución\n",
        "stats = tools.Statistics(key=lambda ind: ind.fitness.values)\n",
        "stats.register(\"min\", np.min)\n",
        "stats.register(\"avg\", np.mean)\n",
        "\n",
        "logbook = tools.Logbook()\n",
        "\n",
        "# Crear la población inicial\n",
        "pop = toolbox.population(n=100)  # 100 individuos\n",
        "\n",
        "# Ejecutar el algoritmo genético\n",
        "resultados, logbook = algorithms.eaSimple(pop, toolbox, cxpb=0.5, mutpb=0.2, ngen=50,stats=stats, verbose=False)\n",
        "\n",
        "# Encontrar el mejor individuo\n",
        "mejor_individuo = tools.selBest(pop, 1)#[0]\n",
        "mostrar_ruta_pasos(mejor_individuo, laberinto=laberinto, inicio=inicio, salida=salida, grid=True)"
      ],
      "metadata": {
        "id": "5pzar7v_5zUV"
      },
      "execution_count": null,
      "outputs": []
    },
    {
      "cell_type": "code",
      "source": [
        "# Extraer las estadísticas de cada generación\n",
        "generaciones = logbook.select(\"gen\")\n",
        "minimos = logbook.select(\"min\")\n",
        "promedios = logbook.select(\"avg\")\n",
        "\n",
        "# Graficar la evolución\n",
        "import matplotlib.pyplot as plt\n",
        "\n",
        "plt.plot(generaciones, minimos, label=\"Mejor aptitud\")\n",
        "plt.plot(generaciones, promedios, label=\"Aptitud promedio\", linestyle=\"--\")\n",
        "plt.xlabel(\"Generaciones\")\n",
        "plt.ylabel(\"Aptitud\")\n",
        "plt.title(\"Evolución del Algoritmo Genético\")\n",
        "plt.legend()\n",
        "plt.show()"
      ],
      "metadata": {
        "id": "d8ScTvRx69k8"
      },
      "execution_count": null,
      "outputs": []
    },
    {
      "cell_type": "code",
      "source": [],
      "metadata": {
        "id": "CRkBnM3S7Kze"
      },
      "execution_count": null,
      "outputs": []
    }
  ]
}